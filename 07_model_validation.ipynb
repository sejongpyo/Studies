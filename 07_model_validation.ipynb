{
 "cells": [
  {
   "cell_type": "markdown",
   "metadata": {},
   "source": [
    "# Pipeline\n",
    "### Prepare data"
   ]
  },
  {
   "cell_type": "code",
   "execution_count": 1,
   "metadata": {},
   "outputs": [],
   "source": [
    "import pandas as pd\n",
    "df = pd.read_csv('https://archive.ics.uci.edu/ml/'\n",
    "                 'machine-learning-databases'\n",
    "                 '/breast-cancer-wisconsin/wdbc.data',\n",
    "                 header = None)"
   ]
  },
  {
   "cell_type": "code",
   "execution_count": 2,
   "metadata": {},
   "outputs": [
    {
     "data": {
      "text/plain": [
       "array(['B', 'M'], dtype=object)"
      ]
     },
     "execution_count": 2,
     "metadata": {},
     "output_type": "execute_result"
    }
   ],
   "source": [
    "from sklearn.preprocessing import LabelEncoder\n",
    "\n",
    "X = df.loc[:, 2:].values\n",
    "y = df.loc[:, 1].values\n",
    "le = LabelEncoder()\n",
    "y = le.fit_transform(y)\n",
    "le.classes_"
   ]
  },
  {
   "cell_type": "code",
   "execution_count": 3,
   "metadata": {},
   "outputs": [
    {
     "data": {
      "text/plain": [
       "array([1, 0], dtype=int64)"
      ]
     },
     "execution_count": 3,
     "metadata": {},
     "output_type": "execute_result"
    }
   ],
   "source": [
    "le.transform(['M', 'B'])"
   ]
  },
  {
   "cell_type": "code",
   "execution_count": 4,
   "metadata": {},
   "outputs": [],
   "source": [
    "from sklearn.model_selection import train_test_split\n",
    "\n",
    "X_train, X_test, y_train, y_test = train_test_split(X, y,\n",
    "                                                    test_size = 0.2,\n",
    "                                                    stratify = y,\n",
    "                                                    random_state = 1)"
   ]
  },
  {
   "cell_type": "markdown",
   "metadata": {},
   "source": [
    "### construct pipeline\n",
    "- train, test를 각각 변환하지 않고 파이프라인으로 연결할 수 있다."
   ]
  },
  {
   "cell_type": "code",
   "execution_count": 5,
   "metadata": {},
   "outputs": [
    {
     "name": "stdout",
     "output_type": "stream",
     "text": [
      "테스트 정확도 : 0.956140350877193\n"
     ]
    }
   ],
   "source": [
    "from sklearn.preprocessing import StandardScaler\n",
    "from sklearn.decomposition import PCA\n",
    "from sklearn.linear_model import LogisticRegression\n",
    "from sklearn.pipeline import make_pipeline\n",
    "\n",
    "pipe_lr = make_pipeline(StandardScaler(),\n",
    "                        PCA(n_components = 2),\n",
    "                        LogisticRegression(solver = 'liblinear', random_state = 1))\n",
    "pipe_lr.fit(X_train, y_train)\n",
    "y_pred = pipe_lr.predict(X_test)\n",
    "print(f\"테스트 정확도 : {pipe_lr.score(X_test, y_test)}\")"
   ]
  },
  {
   "attachments": {},
   "cell_type": "markdown",
   "metadata": {},
   "source": [
    "- pipeline클래스로 변환기와 추정기를 감싼 wrapper로 생각할 수 있다.\n",
    "- pipeline의 마지막 요소는 추정기가 돼야 한다."
   ]
  },
  {
   "cell_type": "markdown",
   "metadata": {},
   "source": [
    "# KFold cross-validation"
   ]
  },
  {
   "cell_type": "code",
   "execution_count": 6,
   "metadata": {},
   "outputs": [
    {
     "name": "stdout",
     "output_type": "stream",
     "text": [
      "폴드: 1, 클래스 분포: [256 153], 정확도: 0.913\n",
      "폴드: 2, 클래스 분포: [256 153], 정확도: 1.0\n",
      "폴드: 3, 클래스 분포: [256 153], 정확도: 0.957\n",
      "폴드: 4, 클래스 분포: [256 153], 정확도: 0.978\n",
      "폴드: 5, 클래스 분포: [256 153], 정확도: 0.87\n",
      "폴드: 6, 클래스 분포: [257 153], 정확도: 0.933\n",
      "폴드: 7, 클래스 분포: [257 153], 정확도: 0.956\n",
      "폴드: 8, 클래스 분포: [257 153], 정확도: 0.978\n",
      "폴드: 9, 클래스 분포: [257 153], 정확도: 0.978\n",
      "폴드: 10, 클래스 분포: [257 153], 정확도: 0.911\n",
      "CV 정확도: 0.9472946859903383 +/- 0.03803650729783967\n"
     ]
    }
   ],
   "source": [
    "import numpy as np\n",
    "from sklearn.model_selection import StratifiedKFold\n",
    "\n",
    "kfold = StratifiedKFold(n_splits = 10, random_state = 1, shuffle = True).split(X_train, y_train)\n",
    "\n",
    "scores = []\n",
    "for k, (train, test) in enumerate(kfold):\n",
    "    pipe_lr.fit(X_train[train], y_train[train])\n",
    "    score = pipe_lr.score(X_train[test], y_train[test])\n",
    "    scores.append(score)\n",
    "    print(f\"폴드: {k+1}, 클래스 분포: {np.bincount(y_train[train])}, 정확도: {round(score, 3)}\")\n",
    "\n",
    "print(f\"CV 정확도: {np.mean(scores)} +/- {np.std(scores)}\")"
   ]
  },
  {
   "cell_type": "markdown",
   "metadata": {},
   "source": [
    "# KFold cross_val_score"
   ]
  },
  {
   "cell_type": "code",
   "execution_count": 7,
   "metadata": {},
   "outputs": [
    {
     "name": "stdout",
     "output_type": "stream",
     "text": [
      "CV 정확도 점수 : [0.93478261 0.93478261 0.95652174 0.95652174 0.93478261 0.95555556\n",
      " 0.97777778 0.93333333 0.95555556 0.95555556]\n",
      "CV 정확도: 0.9495169082125603 +/- 0.013854294239660376\n"
     ]
    }
   ],
   "source": [
    "from sklearn.model_selection import cross_val_score\n",
    "\n",
    "scores = cross_val_score(estimator = pipe_lr, X = X_train,\n",
    "                         y = y_train, cv = 10, n_jobs = -1)\n",
    "\n",
    "print(f\"CV 정확도 점수 : {scores}\")\n",
    "print(f\"CV 정확도: {np.mean(scores)} +/- {np.std(scores)}\")"
   ]
  },
  {
   "cell_type": "code",
   "execution_count": 8,
   "metadata": {},
   "outputs": [
    {
     "name": "stdout",
     "output_type": "stream",
     "text": [
      "CV 정확도 점수 : [0.93478261 0.93478261 0.95652174 0.95652174 0.93478261 0.95555556\n",
      " 0.97777778 0.93333333 0.95555556 0.95555556]\n",
      "CV 정확도: 0.9495169082125603 +/- 0.013854294239660376\n"
     ]
    }
   ],
   "source": [
    "from sklearn.model_selection import cross_validate\n",
    "\n",
    "scores = cross_validate(estimator = pipe_lr, X = X_train,\n",
    "                        y = y_train, scoring = ['accuracy'],\n",
    "                        cv = 10, n_jobs = -1, return_train_score = False)\n",
    "print(f\"CV 정확도 점수 : {scores['test_accuracy']}\")\n",
    "print(f\"CV 정확도: {np.mean(scores['test_accuracy'])} +/- {np.std(scores['test_accuracy'])}\")"
   ]
  },
  {
   "cell_type": "markdown",
   "metadata": {},
   "source": [
    "# 학습 곡선과 검증 곡선\n",
    "- 그래프를 통해 분산과 편향의 문제점을 확인할 수 있다."
   ]
  },
  {
   "cell_type": "code",
   "execution_count": 9,
   "metadata": {},
   "outputs": [
    {
     "data": {
      "image/png": "[encoded data removed]",
      "text/plain": [
       "<Figure size 432x288 with 1 Axes>"
      ]
     },
     "metadata": {
      "needs_background": "light"
     },
     "output_type": "display_data"
    }
   ],
   "source": [
    "import matplotlib.pyplot as plt\n",
    "from sklearn.model_selection import learning_curve\n",
    "\n",
    "pipe_lr = make_pipeline(StandardScaler(),\n",
    "                        LogisticRegression(solver = 'liblinear',\n",
    "                                           penalty = 'l2',\n",
    "                                           random_state = 1))\n",
    "\n",
    "train_sizes, train_scores, test_scores = learning_curve(estimator = pipe_lr,\n",
    "                                                        X = X_train,\n",
    "                                                        y = y_train,\n",
    "                                                        # linspace로 일정간격 훈련세트의 비율선택\n",
    "                                                        train_sizes = np.linspace(\n",
    "                                                        0.1, 1.0, 10),\n",
    "                                                        cv = 10,\n",
    "                                                        n_jobs = 1)\n",
    "train_mean = np.mean(train_scores, axis = 1)\n",
    "train_std = np.std(train_scores, axis = 1)\n",
    "test_mean = np.mean(test_scores, axis = 1)\n",
    "test_std = np.std(test_scores, axis = 1)\n",
    "\n",
    "plt.plot(train_sizes, train_mean,\n",
    "         color = 'blue', marker = 'o',\n",
    "         markersize = 5, label = 'training accuracy')\n",
    "\n",
    "plt.fill_between(train_sizes,\n",
    "                 train_mean + train_std,\n",
    "                 train_mean - train_std,\n",
    "                 alpha = 0.15, color = 'blue')\n",
    "\n",
    "plt.plot(train_sizes, test_mean,\n",
    "         color = 'green', linestyle = '--',\n",
    "         marker = 's', markersize = 5,\n",
    "         label = 'validation accuracy')\n",
    "\n",
    "plt.fill_between(train_sizes,\n",
    "                 test_mean + test_std,\n",
    "                 test_mean - test_std,\n",
    "                 alpha = 0.15, color = 'green')\n",
    "\n",
    "plt.grid()\n",
    "plt.xlabel('Number of training samples')\n",
    "plt.ylabel('Accuracy')\n",
    "plt.legend(loc = 'lower right')\n",
    "plt.ylim([0.8, 1.03])\n",
    "plt.tight_layout()\n",
    "plt.show()"
   ]
  },
  {
   "cell_type": "markdown",
   "metadata": {},
   "source": [
    "# 검증 곡선으로 과대적합 과소적합 검사\n",
    "- 검증곡선은 훈련, 테스트 정확도 대신에 모델 파라미터 값의 함수로 그린다."
   ]
  },
  {
   "cell_type": "code",
   "execution_count": 10,
   "metadata": {},
   "outputs": [
    {
     "data": {
      "image/png": "[encoded data removed]",
      "text/plain": [
       "<Figure size 432x288 with 1 Axes>"
      ]
     },
     "metadata": {
      "needs_background": "light"
     },
     "output_type": "display_data"
    }
   ],
   "source": [
    "# logistic regression's hyper-parameter : C\n",
    "from sklearn.model_selection import validation_curve\n",
    "\n",
    "param_range = [0.0001, 0.001, 0.01, 0.1, 1.0, 10.0, 100.0, 1000.0, 10000.0, 100000.0]\n",
    "trian_scores, test_scores = validation_curve(estimator = pipe_lr,\n",
    "                                             X = X_train,\n",
    "                                             y = y_train,\n",
    "                                             param_name = 'logisticregression__C',\n",
    "                                             param_range = param_range,\n",
    "                                             cv = 10)\n",
    "\n",
    "train_mean = np.mean(train_scores, axis = 1)\n",
    "train_std = np.std(train_scores, axis = 1)\n",
    "test_mean = np.mean(test_scores, axis = 1)\n",
    "test_std = np.std(test_scores, axis = 1)\n",
    "\n",
    "plt.plot(param_range, train_mean,\n",
    "         color = 'blue', marker = 'o',\n",
    "         markersize = 5, label = 'training accuracy')\n",
    "\n",
    "plt.fill_between(param_range,\n",
    "                 train_mean + train_std,\n",
    "                 train_mean - train_std,\n",
    "                 alpha = 0.15, color = 'blue')\n",
    "\n",
    "plt.plot(param_range, test_mean,\n",
    "         color = 'green', linestyle = '--',\n",
    "         marker = 's', markersize = 5,\n",
    "         label = 'validation accuracy')\n",
    "\n",
    "plt.fill_between(param_range,\n",
    "                 test_mean + test_std,\n",
    "                 test_mean - test_std,\n",
    "                 alpha = 0.15, color = 'green')\n",
    "\n",
    "plt.grid()\n",
    "plt.xlabel('Parameter C')\n",
    "plt.ylabel('Accuracy')\n",
    "plt.xscale('log')\n",
    "plt.legend(loc = 'lower right')\n",
    "plt.ylim([0.8, 1.0])\n",
    "plt.tight_layout()\n",
    "plt.show()"
   ]
  },
  {
   "cell_type": "markdown",
   "metadata": {},
   "source": [
    "- validation curve 함수 안에 평가하고자 하는 매개변수를 지정\n",
    "- param_range : 매개변수에는 값 범위 지정"
   ]
  },
  {
   "cell_type": "markdown",
   "metadata": {},
   "source": [
    "# Gridsearch\n",
    "- 리스트로 지정된 여러 가지 hyper-parameter값 전체를 조사한다."
   ]
  },
  {
   "cell_type": "code",
   "execution_count": 11,
   "metadata": {},
   "outputs": [
    {
     "name": "stdout",
     "output_type": "stream",
     "text": [
      "0.9846859903381642\n",
      "{'svc__C': 100.0, 'svc__gamma': 0.001, 'svc__kernel': 'rbf'}\n"
     ]
    }
   ],
   "source": [
    "from sklearn.model_selection import GridSearchCV\n",
    "from sklearn.svm import SVC\n",
    "\n",
    "pipe_svc = make_pipeline(StandardScaler(),\n",
    "                         SVC(random_state = 1))\n",
    "\n",
    "param_range = [0.0001, 0.001, 0.01, 0.1, 1.0, 10.0, 100.0, 1000.0]\n",
    "param_grid = [{'svc__C':param_range,\n",
    "               'svc__kernel':['linear']},\n",
    "              {'svc__C':param_range,\n",
    "               'svc__gamma':param_range,\n",
    "               'svc__kernel':['rbf']}]\n",
    "\n",
    "gs = GridSearchCV(estimator = pipe_svc,\n",
    "                  param_grid = param_grid,\n",
    "                  scoring = 'accuracy',\n",
    "                  cv = 10,\n",
    "                  n_jobs = -1)\n",
    "\n",
    "gs = gs.fit(X_train, y_train)\n",
    "print(gs.best_score_)\n",
    "print(gs.best_params_)"
   ]
  },
  {
   "cell_type": "code",
   "execution_count": 12,
   "metadata": {},
   "outputs": [
    {
     "name": "stdout",
     "output_type": "stream",
     "text": [
      "테스트 정확도 : 0.974\n"
     ]
    }
   ],
   "source": [
    "clf = gs.best_estimator_\n",
    "clf.fit(X_train, y_train)\n",
    "print(f\"테스트 정확도 : {round(clf.score(X_test, y_test), 3)}\")"
   ]
  },
  {
   "cell_type": "markdown",
   "metadata": {},
   "source": [
    "# 중첩 교차 검증"
   ]
  },
  {
   "cell_type": "code",
   "execution_count": 13,
   "metadata": {},
   "outputs": [
    {
     "name": "stdout",
     "output_type": "stream",
     "text": [
      "cv 정확도 :  0.9736263736263737 0.014906219743132467\n"
     ]
    }
   ],
   "source": [
    "gs = GridSearchCV(estimator = pipe_svc,\n",
    "                  param_grid = param_grid,\n",
    "                  scoring = 'accuracy',\n",
    "                  cv = 2)\n",
    "\n",
    "scores = cross_val_score(gs, X_train, y_train,\n",
    "                         scoring = 'accuracy', cv = 5)\n",
    "print(\"cv 정확도 : \", np.mean(scores), np.std(scores))"
   ]
  },
  {
   "cell_type": "code",
   "execution_count": 14,
   "metadata": {},
   "outputs": [
    {
     "name": "stdout",
     "output_type": "stream",
     "text": [
      "cv 정확도 :  0.9340659340659341 0.015540808377726326\n"
     ]
    }
   ],
   "source": [
    "from sklearn.tree import DecisionTreeClassifier\n",
    "\n",
    "gs = GridSearchCV(estimator = DecisionTreeClassifier(random_state = 0),\n",
    "                  param_grid = [{'max_depth': [1, 2, 3, 4, 5, 6, 7, None]}],\n",
    "                  scoring = 'accuracy',\n",
    "                  cv = 2)\n",
    "\n",
    "scores = cross_val_score(gs, X_train, y_train,\n",
    "                         scoring = 'accuracy', cv = 5)\n",
    "print(\"cv 정확도 : \", np.mean(scores), np.std(scores))"
   ]
  },
  {
   "cell_type": "code",
   "execution_count": null,
   "metadata": {},
   "outputs": [],
   "source": []
  }
 ],
 "metadata": {
  "kernelspec": {
   "display_name": "Python 3",
   "language": "python",
   "name": "python3"
  },
  "language_info": {
   "codemirror_mode": {
    "name": "ipython",
    "version": 3
   },
   "file_extension": ".py",
   "mimetype": "text/x-python",
   "name": "python",
   "nbconvert_exporter": "python",
   "pygments_lexer": "ipython3",
   "version": "3.7.9"
  }
 },
 "nbformat": 4,
 "nbformat_minor": 4
}
