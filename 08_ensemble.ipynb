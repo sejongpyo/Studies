{
 "cells": [
  {
   "cell_type": "markdown",
   "metadata": {},
   "source": [
    "# PMF function"
   ]
  },
  {
   "cell_type": "code",
   "execution_count": 5,
   "metadata": {},
   "outputs": [
    {
     "data": {
      "text/plain": [
       "0.03432750701904297"
      ]
     },
     "execution_count": 5,
     "metadata": {},
     "output_type": "execute_result"
    }
   ],
   "source": [
    "from scipy.special import comb\n",
    "import math\n",
    "\n",
    "def ensemble_error(n_classifier, error):\n",
    "    k_start = int(math.ceil(n_classifier / 2.))\n",
    "    probs = [comb(n_classifier, k) *\n",
    "             error**k *\n",
    "             (1-error)**(n_classifier -k)\n",
    "             for k in range(k_start, n_classifier + 1)]\n",
    "    return sum(probs)\n",
    "\n",
    "ensemble_error(n_classifier =11, error = 0.25)"
   ]
  },
  {
   "cell_type": "code",
   "execution_count": 6,
   "metadata": {},
   "outputs": [
    {
     "data": {
      "image/png": "[encoded data removed]",
      "text/plain": [
       "<Figure size 432x288 with 1 Axes>"
      ]
     },
     "metadata": {
      "needs_background": "light"
     },
     "output_type": "display_data"
    }
   ],
   "source": [
    "import numpy as np\n",
    "import matplotlib.pyplot as plt\n",
    "\n",
    "error_range = np.arange(0.0, 1.01, 0.01)\n",
    "ens_errors = [ensemble_error(n_classifier = 11, error = error)\n",
    "              for error in error_range]\n",
    "plt.plot(error_range, ens_errors, label = 'Ensemble error', linewidth = 2)\n",
    "plt.plot(error_range, error_range, linestyle = '--', label = 'Base error', linewidth = 2)\n",
    "plt.xlabel('Base error')\n",
    "plt.ylabel('Base/Ensemble error')\n",
    "plt.legend(loc = 'upper left')\n",
    "plt.grid(alpha = 0.5)\n",
    "plt.show()"
   ]
  },
  {
   "cell_type": "code",
   "execution_count": 7,
   "metadata": {},
   "outputs": [
    {
     "data": {
      "text/plain": [
       "1"
      ]
     },
     "execution_count": 7,
     "metadata": {},
     "output_type": "execute_result"
    }
   ],
   "source": [
    "import numpy as np\n",
    "np.argmax(np.bincount([0, 0, 1],\n",
    "                      weights = [0.2, 0.2, 0.6]))"
   ]
  },
  {
   "cell_type": "code",
   "execution_count": 8,
   "metadata": {},
   "outputs": [
    {
     "data": {
      "text/plain": [
       "array([0.58, 0.42])"
      ]
     },
     "execution_count": 8,
     "metadata": {},
     "output_type": "execute_result"
    }
   ],
   "source": [
    "ex = np.array([[0.9, 0.1],\n",
    "               [0.8, 0.2],\n",
    "               [0.4, 0.6]])\n",
    "p = np.average(ex, axis = 0, weights = [0.2, 0.2, 0.6])\n",
    "p"
   ]
  },
  {
   "cell_type": "code",
   "execution_count": 9,
   "metadata": {},
   "outputs": [
    {
     "data": {
      "text/plain": [
       "0"
      ]
     },
     "execution_count": 9,
     "metadata": {},
     "output_type": "execute_result"
    }
   ],
   "source": [
    "np.argmax(p)"
   ]
  },
  {
   "cell_type": "code",
   "execution_count": 13,
   "metadata": {},
   "outputs": [],
   "source": [
    "from sklearn.base import BaseEstimator\n",
    "from sklearn.base import ClassifierMixin\n",
    "from sklearn.preprocessing import LabelEncoder\n",
    "import six\n",
    "from sklearn.base import clone\n",
    "from sklearn.pipeline import _name_estimators\n",
    "import numpy as np\n",
    "import operator\n",
    "\n",
    "class MajorityVoteClassifier(BaseEstimator, ClassifierMixin):\n",
    "    '''\n",
    "    다수결 투표 앙상블 분류기\n",
    "    \n",
    "    매개변수\n",
    "    classifiers : 배열 타입, 크기 = [n_classifiers]\n",
    "                  앙상블에 사용할 분류기\n",
    "\n",
    "    vote : str, {'classlabel', 'probability'}\n",
    "    기본값 : 'classlabel'\n",
    "    'classlabel'이면 예측은 다수인 클래스 레이블의 인덱스\n",
    "    'probability'면 확률 합이 가장 큰 인덱스로 예측\n",
    "    \n",
    "    weights : 배열 타입, 크기 = [n_classifiers]\n",
    "    \n",
    "    선택사항, 기본값 : None\n",
    "    \n",
    "    'int'또는'float'값의 리스트가 주어지면 분류기가 이 중요도로 가중치됨\n",
    "    'weights = None'이면 동일취급\n",
    "    '''\n",
    "    \n",
    "    def __init__(self, classifiers, vote = 'classlabel', weights=None):\n",
    "        self.classifiers = classifiers\n",
    "        self.named_classifiers = {key: value for key, value in _name_estimators(classifiers)}\n",
    "        self.vote = vote\n",
    "        self.weights = weights\n",
    "        \n",
    "    def fit(self, X, y):\n",
    "        self.lablenc_ = LabelEncoder()\n",
    "        self.lablenc_.fit(y)\n",
    "        self.classes_ = self.lablenc_.classes_\n",
    "        self.classifiers_ = []\n",
    "        for clf in self.classifiers:\n",
    "            fitted_clf = clone(clf).fit(X, self.lablenc_.transform(y))\n",
    "            self.classifiers_.append(fitted_clf)\n",
    "        return self\n",
    "    \n",
    "    def predict(self, X):\n",
    "        if self.vote == 'probability':\n",
    "            maj_vote = np.argmax(self.predict_proba(X), axis = 1)\n",
    "        else:\n",
    "            predictions = np.asarray([clf.predict(X)\n",
    "                                      for clf in self.classifiers_]).T\n",
    "            \n",
    "            maj_vote = np.apply_along_axis(lambda x: np.argmax(np.bincount(x, weights = self.weights)),\n",
    "                                           axis = 1, arr = predictions)\n",
    "        maj_vote = self.lablenc_.inverse_transform(maj_vote)\n",
    "        return maj_vote\n",
    "    \n",
    "    def predict_proba(self, X):\n",
    "        probas = np.asarray([clf.predict_proba(X) for clf in self.classifiers_])\n",
    "        avg_proba = np.average(probas, axis = 0, weights = self.weights)\n",
    "        return avg_proba\n",
    "    \n",
    "    def get_params(self, deep = True):\n",
    "        if not deep:\n",
    "            return super(MajorityVoteClassifier, self).get_params(deep = False)\n",
    "        else:\n",
    "            out = self.named_classifiers.copy()\n",
    "            for name, step in six.iteritems(self.named_classifiers):\n",
    "                for key, value in six.iteritems(step.get_params(deep = True)):\n",
    "                    out[f\"{name}__{key}\"] = value\n",
    "                    \n",
    "        return out"
   ]
  },
  {
   "cell_type": "code",
   "execution_count": 14,
   "metadata": {},
   "outputs": [],
   "source": [
    "from sklearn import datasets\n",
    "from sklearn.model_selection import train_test_split\n",
    "from sklearn.preprocessing import StandardScaler\n",
    "from sklearn.preprocessing import LabelEncoder\n",
    "iris = datasets.load_iris()\n",
    "X, y = iris.data[50:, [1, 2]], iris.target[50:]\n",
    "le = LabelEncoder()\n",
    "y = le.fit_transform(y)\n",
    "\n",
    "X_train, X_test, y_train, y_test = train_test_split(X, y, test_size = 0.5, random_state = 1, stratify = y)"
   ]
  },
  {
   "cell_type": "markdown",
   "metadata": {},
   "source": [
    "### logistic regression, knn, decision tree"
   ]
  },
  {
   "cell_type": "markdown",
   "metadata": {},
   "source": [
    "### 앙상블로 묶기 전 훈련 세트 cv = 10"
   ]
  },
  {
   "cell_type": "code",
   "execution_count": 15,
   "metadata": {},
   "outputs": [
    {
     "name": "stdout",
     "output_type": "stream",
     "text": [
      "10-겹 교차검증: \n",
      "\n",
      "ROC AUC: 0.92 (+/- 0.15) [Logistic regression]\n",
      "ROC AUC: 0.87 (+/- 0.18) [Decision tree]\n",
      "ROC AUC: 0.85 (+/- 0.13) [KNN]\n"
     ]
    }
   ],
   "source": [
    "from sklearn.model_selection import cross_val_score\n",
    "from sklearn.linear_model import LogisticRegression\n",
    "from sklearn.tree import DecisionTreeClassifier\n",
    "from sklearn.neighbors import KNeighborsClassifier\n",
    "from sklearn.pipeline import Pipeline\n",
    "import numpy as np\n",
    "\n",
    "clf1 = LogisticRegression(solver = 'liblinear', penalty = 'l2', C = 0.001, random_state = 1)\n",
    "\n",
    "clf2 = DecisionTreeClassifier(max_depth = 1, criterion = 'entropy', random_state = 0)\n",
    "\n",
    "clf3 = KNeighborsClassifier(n_neighbors = 1, p = 2, metric = 'minkowski')\n",
    "\n",
    "pipe1 = Pipeline([['sc', StandardScaler()],\n",
    "                  ['clf', clf1]])\n",
    "pipe3 = Pipeline([['sc', StandardScaler()],\n",
    "                  ['clf', clf3]])\n",
    "# decisiontree는 표준화가 필요없다!\n",
    "\n",
    "clf_labels = ['Logistic regression', 'Decision tree', 'KNN']\n",
    "print('10-겹 교차검증: \\n')\n",
    "\n",
    "for clf, label in zip([pipe1, clf2, pipe3], clf_labels):\n",
    "    scores = cross_val_score(estimator = clf,\n",
    "                             X = X_train,\n",
    "                             y = y_train,\n",
    "                             cv = 10,\n",
    "                             scoring = 'roc_auc')\n",
    "    print(\"ROC AUC: %0.2f (+/- %0.2f) [%s]\" % (scores.mean(), scores.std(), label))"
   ]
  },
  {
   "cell_type": "markdown",
   "metadata": {},
   "source": [
    "### 앙상블 분류기 연결"
   ]
  },
  {
   "cell_type": "code",
   "execution_count": 18,
   "metadata": {
    "scrolled": true
   },
   "outputs": [
    {
     "name": "stdout",
     "output_type": "stream",
     "text": [
      "ROC AUC: 0.92 (+/- 0.15) [Logistic regression]\n",
      "ROC AUC: 0.87 (+/- 0.18) [Decision tree]\n",
      "ROC AUC: 0.85 (+/- 0.13) [KNN]\n",
      "ROC AUC: 0.98 (+/- 0.05) [Majority voting]\n"
     ]
    }
   ],
   "source": [
    "mv_clf = MajorityVoteClassifier(classifiers = [pipe1, clf2, pipe3])\n",
    "\n",
    "clf_labels += ['Majority voting']\n",
    "all_clf = [pipe1, clf2, pipe3, mv_clf]\n",
    "\n",
    "for clf, label in zip(all_clf, clf_labels):\n",
    "    scores = cross_val_score(estimator = clf, X=X_train, y = y_train, cv = 10, scoring = 'roc_auc')\n",
    "    print(\"ROC AUC: %0.2f (+/- %0.2f) [%s]\" % (scores.mean(), scores.std(), label))"
   ]
  },
  {
   "cell_type": "code",
   "execution_count": 44,
   "metadata": {},
   "outputs": [
    {
     "name": "stdout",
     "output_type": "stream",
     "text": [
      "0.98\n"
     ]
    },
    {
     "name": "stderr",
     "output_type": "stream",
     "text": [
      "c:\\users\\xnoti\\anaconda3\\envs\\py37\\lib\\site-packages\\sklearn\\model_selection\\_validation.py:614: FitFailedWarning: Estimator fit failed. The score on this train-test partition for these parameters will be set to nan. Details: \n",
      "Traceback (most recent call last):\n",
      "  File \"c:\\users\\xnoti\\anaconda3\\envs\\py37\\lib\\site-packages\\sklearn\\model_selection\\_validation.py\", line 593, in _fit_and_score\n",
      "    estimator.fit(X_train, y_train, **fit_params)\n",
      "  File \"c:\\users\\xnoti\\anaconda3\\envs\\py37\\lib\\site-packages\\sklearn\\ensemble\\_voting.py\", line 292, in fit\n",
      "    return super().fit(X, transformed_y, sample_weight)\n",
      "  File \"c:\\users\\xnoti\\anaconda3\\envs\\py37\\lib\\site-packages\\sklearn\\ensemble\\_voting.py\", line 66, in fit\n",
      "    names, clfs = self._validate_estimators()\n",
      "  File \"c:\\users\\xnoti\\anaconda3\\envs\\py37\\lib\\site-packages\\sklearn\\ensemble\\_base.py\", line 225, in _validate_estimators\n",
      "    names, estimators = zip(*self.estimators)\n",
      "TypeError: zip argument #2 must support iteration\n",
      "\n",
      "  FitFailedWarning)\n",
      "c:\\users\\xnoti\\anaconda3\\envs\\py37\\lib\\site-packages\\sklearn\\model_selection\\_validation.py:614: FitFailedWarning: Estimator fit failed. The score on this train-test partition for these parameters will be set to nan. Details: \n",
      "Traceback (most recent call last):\n",
      "  File \"c:\\users\\xnoti\\anaconda3\\envs\\py37\\lib\\site-packages\\sklearn\\model_selection\\_validation.py\", line 593, in _fit_and_score\n",
      "    estimator.fit(X_train, y_train, **fit_params)\n",
      "  File \"c:\\users\\xnoti\\anaconda3\\envs\\py37\\lib\\site-packages\\sklearn\\ensemble\\_voting.py\", line 292, in fit\n",
      "    return super().fit(X, transformed_y, sample_weight)\n",
      "  File \"c:\\users\\xnoti\\anaconda3\\envs\\py37\\lib\\site-packages\\sklearn\\ensemble\\_voting.py\", line 66, in fit\n",
      "    names, clfs = self._validate_estimators()\n",
      "  File \"c:\\users\\xnoti\\anaconda3\\envs\\py37\\lib\\site-packages\\sklearn\\ensemble\\_base.py\", line 225, in _validate_estimators\n",
      "    names, estimators = zip(*self.estimators)\n",
      "TypeError: zip argument #2 must support iteration\n",
      "\n",
      "  FitFailedWarning)\n",
      "c:\\users\\xnoti\\anaconda3\\envs\\py37\\lib\\site-packages\\sklearn\\model_selection\\_validation.py:614: FitFailedWarning: Estimator fit failed. The score on this train-test partition for these parameters will be set to nan. Details: \n",
      "Traceback (most recent call last):\n",
      "  File \"c:\\users\\xnoti\\anaconda3\\envs\\py37\\lib\\site-packages\\sklearn\\model_selection\\_validation.py\", line 593, in _fit_and_score\n",
      "    estimator.fit(X_train, y_train, **fit_params)\n",
      "  File \"c:\\users\\xnoti\\anaconda3\\envs\\py37\\lib\\site-packages\\sklearn\\ensemble\\_voting.py\", line 292, in fit\n",
      "    return super().fit(X, transformed_y, sample_weight)\n",
      "  File \"c:\\users\\xnoti\\anaconda3\\envs\\py37\\lib\\site-packages\\sklearn\\ensemble\\_voting.py\", line 66, in fit\n",
      "    names, clfs = self._validate_estimators()\n",
      "  File \"c:\\users\\xnoti\\anaconda3\\envs\\py37\\lib\\site-packages\\sklearn\\ensemble\\_base.py\", line 225, in _validate_estimators\n",
      "    names, estimators = zip(*self.estimators)\n",
      "TypeError: zip argument #2 must support iteration\n",
      "\n",
      "  FitFailedWarning)\n",
      "c:\\users\\xnoti\\anaconda3\\envs\\py37\\lib\\site-packages\\sklearn\\model_selection\\_validation.py:614: FitFailedWarning: Estimator fit failed. The score on this train-test partition for these parameters will be set to nan. Details: \n",
      "Traceback (most recent call last):\n",
      "  File \"c:\\users\\xnoti\\anaconda3\\envs\\py37\\lib\\site-packages\\sklearn\\model_selection\\_validation.py\", line 593, in _fit_and_score\n",
      "    estimator.fit(X_train, y_train, **fit_params)\n",
      "  File \"c:\\users\\xnoti\\anaconda3\\envs\\py37\\lib\\site-packages\\sklearn\\ensemble\\_voting.py\", line 292, in fit\n",
      "    return super().fit(X, transformed_y, sample_weight)\n",
      "  File \"c:\\users\\xnoti\\anaconda3\\envs\\py37\\lib\\site-packages\\sklearn\\ensemble\\_voting.py\", line 66, in fit\n",
      "    names, clfs = self._validate_estimators()\n",
      "  File \"c:\\users\\xnoti\\anaconda3\\envs\\py37\\lib\\site-packages\\sklearn\\ensemble\\_base.py\", line 225, in _validate_estimators\n",
      "    names, estimators = zip(*self.estimators)\n",
      "TypeError: zip argument #2 must support iteration\n",
      "\n",
      "  FitFailedWarning)\n",
      "c:\\users\\xnoti\\anaconda3\\envs\\py37\\lib\\site-packages\\sklearn\\model_selection\\_validation.py:614: FitFailedWarning: Estimator fit failed. The score on this train-test partition for these parameters will be set to nan. Details: \n",
      "Traceback (most recent call last):\n",
      "  File \"c:\\users\\xnoti\\anaconda3\\envs\\py37\\lib\\site-packages\\sklearn\\model_selection\\_validation.py\", line 593, in _fit_and_score\n",
      "    estimator.fit(X_train, y_train, **fit_params)\n",
      "  File \"c:\\users\\xnoti\\anaconda3\\envs\\py37\\lib\\site-packages\\sklearn\\ensemble\\_voting.py\", line 292, in fit\n",
      "    return super().fit(X, transformed_y, sample_weight)\n",
      "  File \"c:\\users\\xnoti\\anaconda3\\envs\\py37\\lib\\site-packages\\sklearn\\ensemble\\_voting.py\", line 66, in fit\n",
      "    names, clfs = self._validate_estimators()\n",
      "  File \"c:\\users\\xnoti\\anaconda3\\envs\\py37\\lib\\site-packages\\sklearn\\ensemble\\_base.py\", line 225, in _validate_estimators\n",
      "    names, estimators = zip(*self.estimators)\n",
      "TypeError: zip argument #2 must support iteration\n",
      "\n",
      "  FitFailedWarning)\n",
      "c:\\users\\xnoti\\anaconda3\\envs\\py37\\lib\\site-packages\\sklearn\\model_selection\\_validation.py:614: FitFailedWarning: Estimator fit failed. The score on this train-test partition for these parameters will be set to nan. Details: \n",
      "Traceback (most recent call last):\n",
      "  File \"c:\\users\\xnoti\\anaconda3\\envs\\py37\\lib\\site-packages\\sklearn\\model_selection\\_validation.py\", line 593, in _fit_and_score\n",
      "    estimator.fit(X_train, y_train, **fit_params)\n",
      "  File \"c:\\users\\xnoti\\anaconda3\\envs\\py37\\lib\\site-packages\\sklearn\\ensemble\\_voting.py\", line 292, in fit\n",
      "    return super().fit(X, transformed_y, sample_weight)\n",
      "  File \"c:\\users\\xnoti\\anaconda3\\envs\\py37\\lib\\site-packages\\sklearn\\ensemble\\_voting.py\", line 66, in fit\n",
      "    names, clfs = self._validate_estimators()\n",
      "  File \"c:\\users\\xnoti\\anaconda3\\envs\\py37\\lib\\site-packages\\sklearn\\ensemble\\_base.py\", line 225, in _validate_estimators\n",
      "    names, estimators = zip(*self.estimators)\n",
      "TypeError: zip argument #2 must support iteration\n",
      "\n",
      "  FitFailedWarning)\n",
      "c:\\users\\xnoti\\anaconda3\\envs\\py37\\lib\\site-packages\\sklearn\\model_selection\\_validation.py:614: FitFailedWarning: Estimator fit failed. The score on this train-test partition for these parameters will be set to nan. Details: \n",
      "Traceback (most recent call last):\n",
      "  File \"c:\\users\\xnoti\\anaconda3\\envs\\py37\\lib\\site-packages\\sklearn\\model_selection\\_validation.py\", line 593, in _fit_and_score\n",
      "    estimator.fit(X_train, y_train, **fit_params)\n",
      "  File \"c:\\users\\xnoti\\anaconda3\\envs\\py37\\lib\\site-packages\\sklearn\\ensemble\\_voting.py\", line 292, in fit\n",
      "    return super().fit(X, transformed_y, sample_weight)\n",
      "  File \"c:\\users\\xnoti\\anaconda3\\envs\\py37\\lib\\site-packages\\sklearn\\ensemble\\_voting.py\", line 66, in fit\n",
      "    names, clfs = self._validate_estimators()\n",
      "  File \"c:\\users\\xnoti\\anaconda3\\envs\\py37\\lib\\site-packages\\sklearn\\ensemble\\_base.py\", line 225, in _validate_estimators\n",
      "    names, estimators = zip(*self.estimators)\n",
      "TypeError: zip argument #2 must support iteration\n",
      "\n",
      "  FitFailedWarning)\n",
      "c:\\users\\xnoti\\anaconda3\\envs\\py37\\lib\\site-packages\\sklearn\\model_selection\\_validation.py:614: FitFailedWarning: Estimator fit failed. The score on this train-test partition for these parameters will be set to nan. Details: \n",
      "Traceback (most recent call last):\n",
      "  File \"c:\\users\\xnoti\\anaconda3\\envs\\py37\\lib\\site-packages\\sklearn\\model_selection\\_validation.py\", line 593, in _fit_and_score\n",
      "    estimator.fit(X_train, y_train, **fit_params)\n",
      "  File \"c:\\users\\xnoti\\anaconda3\\envs\\py37\\lib\\site-packages\\sklearn\\ensemble\\_voting.py\", line 292, in fit\n",
      "    return super().fit(X, transformed_y, sample_weight)\n",
      "  File \"c:\\users\\xnoti\\anaconda3\\envs\\py37\\lib\\site-packages\\sklearn\\ensemble\\_voting.py\", line 66, in fit\n",
      "    names, clfs = self._validate_estimators()\n",
      "  File \"c:\\users\\xnoti\\anaconda3\\envs\\py37\\lib\\site-packages\\sklearn\\ensemble\\_base.py\", line 225, in _validate_estimators\n",
      "    names, estimators = zip(*self.estimators)\n",
      "TypeError: zip argument #2 must support iteration\n",
      "\n",
      "  FitFailedWarning)\n",
      "c:\\users\\xnoti\\anaconda3\\envs\\py37\\lib\\site-packages\\sklearn\\model_selection\\_validation.py:614: FitFailedWarning: Estimator fit failed. The score on this train-test partition for these parameters will be set to nan. Details: \n",
      "Traceback (most recent call last):\n",
      "  File \"c:\\users\\xnoti\\anaconda3\\envs\\py37\\lib\\site-packages\\sklearn\\model_selection\\_validation.py\", line 593, in _fit_and_score\n",
      "    estimator.fit(X_train, y_train, **fit_params)\n",
      "  File \"c:\\users\\xnoti\\anaconda3\\envs\\py37\\lib\\site-packages\\sklearn\\ensemble\\_voting.py\", line 292, in fit\n",
      "    return super().fit(X, transformed_y, sample_weight)\n",
      "  File \"c:\\users\\xnoti\\anaconda3\\envs\\py37\\lib\\site-packages\\sklearn\\ensemble\\_voting.py\", line 66, in fit\n",
      "    names, clfs = self._validate_estimators()\n",
      "  File \"c:\\users\\xnoti\\anaconda3\\envs\\py37\\lib\\site-packages\\sklearn\\ensemble\\_base.py\", line 225, in _validate_estimators\n",
      "    names, estimators = zip(*self.estimators)\n",
      "TypeError: zip argument #2 must support iteration\n",
      "\n",
      "  FitFailedWarning)\n",
      "c:\\users\\xnoti\\anaconda3\\envs\\py37\\lib\\site-packages\\sklearn\\model_selection\\_validation.py:614: FitFailedWarning: Estimator fit failed. The score on this train-test partition for these parameters will be set to nan. Details: \n",
      "Traceback (most recent call last):\n",
      "  File \"c:\\users\\xnoti\\anaconda3\\envs\\py37\\lib\\site-packages\\sklearn\\model_selection\\_validation.py\", line 593, in _fit_and_score\n",
      "    estimator.fit(X_train, y_train, **fit_params)\n",
      "  File \"c:\\users\\xnoti\\anaconda3\\envs\\py37\\lib\\site-packages\\sklearn\\ensemble\\_voting.py\", line 292, in fit\n",
      "    return super().fit(X, transformed_y, sample_weight)\n",
      "  File \"c:\\users\\xnoti\\anaconda3\\envs\\py37\\lib\\site-packages\\sklearn\\ensemble\\_voting.py\", line 66, in fit\n",
      "    names, clfs = self._validate_estimators()\n",
      "  File \"c:\\users\\xnoti\\anaconda3\\envs\\py37\\lib\\site-packages\\sklearn\\ensemble\\_base.py\", line 225, in _validate_estimators\n",
      "    names, estimators = zip(*self.estimators)\n",
      "TypeError: zip argument #2 must support iteration\n",
      "\n",
      "  FitFailedWarning)\n"
     ]
    }
   ],
   "source": [
    "from sklearn.ensemble import VotingClassifier\n",
    "\n",
    "models = [pipe1, clf2, pipe3]\n",
    "\n",
    "hard_vote  = VotingClassifier(models, voting='hard')\n",
    "asdf = cross_val_score(estimator = hard_vote, X = X_train, y= y_train, cv = 10, scoring = 'roc_auc')\n",
    "print(round(scores.mean(), 2))"
   ]
  },
  {
   "cell_type": "markdown",
   "metadata": {},
   "source": [
    "### 앙상블 분류기 평가와 튜닝"
   ]
  },
  {
   "cell_type": "code",
   "execution_count": 19,
   "metadata": {},
   "outputs": [
    {
     "data": {
      "image/png": "[encoded data removed]",
      "text/plain": [
       "<Figure size 432x288 with 1 Axes>"
      ]
     },
     "metadata": {
      "needs_background": "light"
     },
     "output_type": "display_data"
    }
   ],
   "source": [
    "from sklearn.metrics import roc_curve\n",
    "from sklearn.metrics import auc\n",
    "colors = ['black', 'orange', 'blue', 'green']\n",
    "linestyles = [':', '--', '-.', '-']\n",
    "for clf, label, clr, ls in zip(all_clf, clf_labels, colors, linestyles):\n",
    "    y_pred = clf.fit(X_train, y_train).predict_proba(X_test)[:, 1]\n",
    "    fpr, tpr, thresholds = roc_curve(y_true = y_test, y_score = y_pred)\n",
    "    roc_auc = auc(x = fpr, y = tpr)\n",
    "    plt.plot(fpr, tpr, color = clr, linestyle = ls, label = f\"{label} (auc = {round(roc_auc, 2)})\")\n",
    "plt.legend(loc = 'lower right')\n",
    "plt.plot([0, 1], [0, 1], linestyle = '--', color = 'gray', linewidth = 2)\n",
    "plt.xlim([-0.1, 1.1])\n",
    "plt.ylim([-0.1, 1.1])\n",
    "plt.grid(alpha = 0.5)\n",
    "plt.xlabel('False positive rate (FPR)')\n",
    "plt.ylabel('True positive rate (TPR)')\n",
    "plt.show()"
   ]
  },
  {
   "cell_type": "code",
   "execution_count": 20,
   "metadata": {},
   "outputs": [
    {
     "data": {
      "image/png": "[encoded data removed]",
      "text/plain": [
       "<Figure size 504x360 with 4 Axes>"
      ]
     },
     "metadata": {
      "needs_background": "light"
     },
     "output_type": "display_data"
    }
   ],
   "source": [
    "sc = StandardScaler()\n",
    "X_train_std = sc.fit_transform(X_train)\n",
    "from itertools import product\n",
    "\n",
    "x_min = X_train_std[:, 0].min() -1\n",
    "x_max = X_train_std[:, 0].max() +1\n",
    "y_min = X_train_std[:, 1].min() -1\n",
    "y_max = X_train_std[:, 1].max() +1\n",
    "xx, yy = np.meshgrid(np.arange(x_min, x_max, 0.1), np.arange(y_min, y_max, 0.1))\n",
    "f, axarr = plt.subplots(2, 2, sharex = 'col', sharey = 'row', figsize = (7, 5))\n",
    "\n",
    "for idx, clf, tt in zip(product([0, 1], [0, 1]), all_clf, clf_labels):\n",
    "    clf.fit(X_train_std, y_train)\n",
    "    Z = clf.predict(np.c_[xx.ravel(), yy.ravel()])\n",
    "    Z = Z.reshape(xx.shape)\n",
    "    axarr[idx[0], idx[1]].contourf(xx, yy, Z, alpha=0.3)\n",
    "    axarr[idx[0], idx[1]].scatter(X_train_std[y_train==0, 0],\n",
    "                                  X_train_std[y_train==0, 1],\n",
    "                                  c = 'blue', marker ='^', s = 50)\n",
    "    axarr[idx[0], idx[1]].scatter(X_train_std[y_train==1, 0],\n",
    "                                  X_train_std[y_train==1, 1],\n",
    "                                  c = 'green', marker ='o', s = 50)\n",
    "    axarr[idx[0], idx[1]].set_title(tt)\n",
    "plt.text(-3.5, -4.5, s = 'Sepal width [standardized]', ha = 'center', va = 'center', fontsize = 12)\n",
    "plt.text(-10.5, 4.5, s = 'Petal length [standardized]', ha = 'center', va = 'center', fontsize = 12, rotation = 90)\n",
    "plt.show()"
   ]
  },
  {
   "cell_type": "code",
   "execution_count": 22,
   "metadata": {},
   "outputs": [
    {
     "data": {
      "text/plain": [
       "{'pipeline-1': Pipeline(steps=[('sc', StandardScaler()),\n",
       "                 ['clf',\n",
       "                  LogisticRegression(C=0.001, random_state=1,\n",
       "                                     solver='liblinear')]]),\n",
       " 'decisiontreeclassifier': DecisionTreeClassifier(criterion='entropy', max_depth=1, random_state=0),\n",
       " 'pipeline-2': Pipeline(steps=[('sc', StandardScaler()),\n",
       "                 ['clf', KNeighborsClassifier(n_neighbors=1)]]),\n",
       " 'pipeline-1__memory': None,\n",
       " 'pipeline-1__steps': [('sc', StandardScaler()),\n",
       "  ['clf', LogisticRegression(C=0.001, random_state=1, solver='liblinear')]],\n",
       " 'pipeline-1__verbose': False,\n",
       " 'pipeline-1__sc': StandardScaler(),\n",
       " 'pipeline-1__clf': LogisticRegression(C=0.001, random_state=1, solver='liblinear'),\n",
       " 'pipeline-1__sc__copy': True,\n",
       " 'pipeline-1__sc__with_mean': True,\n",
       " 'pipeline-1__sc__with_std': True,\n",
       " 'pipeline-1__clf__C': 0.001,\n",
       " 'pipeline-1__clf__class_weight': None,\n",
       " 'pipeline-1__clf__dual': False,\n",
       " 'pipeline-1__clf__fit_intercept': True,\n",
       " 'pipeline-1__clf__intercept_scaling': 1,\n",
       " 'pipeline-1__clf__l1_ratio': None,\n",
       " 'pipeline-1__clf__max_iter': 100,\n",
       " 'pipeline-1__clf__multi_class': 'auto',\n",
       " 'pipeline-1__clf__n_jobs': None,\n",
       " 'pipeline-1__clf__penalty': 'l2',\n",
       " 'pipeline-1__clf__random_state': 1,\n",
       " 'pipeline-1__clf__solver': 'liblinear',\n",
       " 'pipeline-1__clf__tol': 0.0001,\n",
       " 'pipeline-1__clf__verbose': 0,\n",
       " 'pipeline-1__clf__warm_start': False,\n",
       " 'decisiontreeclassifier__ccp_alpha': 0.0,\n",
       " 'decisiontreeclassifier__class_weight': None,\n",
       " 'decisiontreeclassifier__criterion': 'entropy',\n",
       " 'decisiontreeclassifier__max_depth': 1,\n",
       " 'decisiontreeclassifier__max_features': None,\n",
       " 'decisiontreeclassifier__max_leaf_nodes': None,\n",
       " 'decisiontreeclassifier__min_impurity_decrease': 0.0,\n",
       " 'decisiontreeclassifier__min_impurity_split': None,\n",
       " 'decisiontreeclassifier__min_samples_leaf': 1,\n",
       " 'decisiontreeclassifier__min_samples_split': 2,\n",
       " 'decisiontreeclassifier__min_weight_fraction_leaf': 0.0,\n",
       " 'decisiontreeclassifier__random_state': 0,\n",
       " 'decisiontreeclassifier__splitter': 'best',\n",
       " 'pipeline-2__memory': None,\n",
       " 'pipeline-2__steps': [('sc', StandardScaler()),\n",
       "  ['clf', KNeighborsClassifier(n_neighbors=1)]],\n",
       " 'pipeline-2__verbose': False,\n",
       " 'pipeline-2__sc': StandardScaler(),\n",
       " 'pipeline-2__clf': KNeighborsClassifier(n_neighbors=1),\n",
       " 'pipeline-2__sc__copy': True,\n",
       " 'pipeline-2__sc__with_mean': True,\n",
       " 'pipeline-2__sc__with_std': True,\n",
       " 'pipeline-2__clf__algorithm': 'auto',\n",
       " 'pipeline-2__clf__leaf_size': 30,\n",
       " 'pipeline-2__clf__metric': 'minkowski',\n",
       " 'pipeline-2__clf__metric_params': None,\n",
       " 'pipeline-2__clf__n_jobs': None,\n",
       " 'pipeline-2__clf__n_neighbors': 1,\n",
       " 'pipeline-2__clf__p': 2,\n",
       " 'pipeline-2__clf__weights': 'uniform'}"
      ]
     },
     "execution_count": 22,
     "metadata": {},
     "output_type": "execute_result"
    }
   ],
   "source": [
    "mv_clf.get_params()"
   ]
  },
  {
   "cell_type": "code",
   "execution_count": 24,
   "metadata": {},
   "outputs": [
    {
     "data": {
      "text/plain": [
       "GridSearchCV(cv=10,\n",
       "             estimator=MajorityVoteClassifier(classifiers=[Pipeline(steps=[('sc',\n",
       "                                                                            StandardScaler()),\n",
       "                                                                           ['clf',\n",
       "                                                                            LogisticRegression(C=0.001,\n",
       "                                                                                               random_state=1,\n",
       "                                                                                               solver='liblinear')]]),\n",
       "                                                           DecisionTreeClassifier(criterion='entropy',\n",
       "                                                                                  max_depth=1,\n",
       "                                                                                  random_state=0),\n",
       "                                                           Pipeline(steps=[('sc',\n",
       "                                                                            StandardScaler()),\n",
       "                                                                           ['clf',\n",
       "                                                                            KNeighborsClassifier(n_neighbors=1)]])]),\n",
       "             param_grid={'decisiontreeclassifier__max_depth': [1, 2],\n",
       "                         'pipeline-1__clf__C': [0.001, 0.1, 100.0]},\n",
       "             scoring='roc_auc')"
      ]
     },
     "execution_count": 24,
     "metadata": {},
     "output_type": "execute_result"
    }
   ],
   "source": [
    "from sklearn.model_selection import GridSearchCV\n",
    "params = {'decisiontreeclassifier__max_depth':[1, 2], 'pipeline-1__clf__C':[0.001, 0.1, 100.0]}\n",
    "grid = GridSearchCV(estimator = mv_clf, param_grid = params, cv = 10, scoring = 'roc_auc')\n",
    "grid.fit(X_train, y_train)"
   ]
  },
  {
   "cell_type": "markdown",
   "metadata": {},
   "source": [
    "# bagging"
   ]
  },
  {
   "cell_type": "code",
   "execution_count": 30,
   "metadata": {},
   "outputs": [],
   "source": [
    "import pandas as pd\n",
    "df_wine = pd.read_csv('https://archive.ics.uci.edu/ml/machine-learning-databases/wine/wine.data', header = None)\n",
    "df_wine.columns = ['Class label', 'Alcohol', 'Malic acid', 'Ash', 'Alcalinity of ash', 'Magnesium', 'Total phenols',\n",
    "                   'Flavanoids', 'Nonflavanoid phenols', 'Proanthocyanins', 'Color intensity', 'Hue', '0D280/0D315 of diluted wines',\n",
    "                   'Proline']\n",
    "\n",
    "# make exception of class 1\n",
    "df_wine = df_wine[df_wine['Class label'] != 1]\n",
    "\n",
    "y = df_wine['Class label'].values\n",
    "X = df_wine[['Alcohol', '0D280/0D315 of diluted wines']].values"
   ]
  },
  {
   "cell_type": "code",
   "execution_count": 37,
   "metadata": {},
   "outputs": [],
   "source": [
    "from sklearn.preprocessing import LabelEncoder\n",
    "from sklearn.model_selection import train_test_split\n",
    "le = LabelEncoder()\n",
    "y = le.fit_transform(y)\n",
    "X_train, X_test, y_train, y_test = train_test_split(X, y, test_size = 0.2, random_state = 1, stratify = y)"
   ]
  },
  {
   "cell_type": "code",
   "execution_count": 38,
   "metadata": {},
   "outputs": [
    {
     "name": "stdout",
     "output_type": "stream",
     "text": [
      "결정 트리의 훈련 정확도/테스트 정확도 1.000/0.833\n"
     ]
    }
   ],
   "source": [
    "from sklearn.ensemble import BaggingClassifier\n",
    "\n",
    "tree = DecisionTreeClassifier(criterion = 'entropy', random_state = 1, max_depth = None)\n",
    "bag = BaggingClassifier(base_estimator = tree, n_estimators = 500, max_samples = 1.0, max_features = 1.0,\n",
    "                        bootstrap = True, bootstrap_features = False, n_jobs = -1, random_state = 1)\n",
    "\n",
    "# 정확도 비교 배깅, 결정나무\n",
    "from sklearn.metrics import accuracy_score\n",
    "\n",
    "tree = tree.fit(X_train, y_train)\n",
    "y_train_pred = tree.predict(X_train)\n",
    "y_test_pred = tree.predict(X_test)\n",
    "tree_train = accuracy_score(y_train, y_train_pred)\n",
    "tree_test = accuracy_score(y_test, y_test_pred)\n",
    "print('결정 트리의 훈련 정확도/테스트 정확도 %.3f/%.3f' %(tree_train, tree_test))"
   ]
  },
  {
   "cell_type": "code",
   "execution_count": 39,
   "metadata": {},
   "outputs": [
    {
     "name": "stdout",
     "output_type": "stream",
     "text": [
      "배킹 훈련 정확도/테스트 정확도 1.000/0.917\n"
     ]
    }
   ],
   "source": [
    "bag = bag.fit(X_train, y_train)\n",
    "y_train_pred = bag.predict(X_train)\n",
    "y_test_pred = bag.predict(X_test)\n",
    "bag_train = accuracy_score(y_train, y_train_pred)\n",
    "bag_test = accuracy_score(y_test, y_test_pred)\n",
    "print('배킹 훈련 정확도/테스트 정확도 %.3f/%.3f' %(bag_train, bag_test))"
   ]
  },
  {
   "cell_type": "code",
   "execution_count": 42,
   "metadata": {},
   "outputs": [
    {
     "data": {
      "image/png": "[encoded data removed]",
      "text/plain": [
       "<Figure size 576x216 with 2 Axes>"
      ]
     },
     "metadata": {
      "needs_background": "light"
     },
     "output_type": "display_data"
    }
   ],
   "source": [
    "x_min = X_train[:, 0].min() -1\n",
    "x_max = X_train[:, 0].max() +1\n",
    "y_min = X_train[:, 1].min() -1\n",
    "y_max = X_train[:, 1].max() +1\n",
    "xx, yy = np.meshgrid(np.arange(x_min, x_max, 0.1), np.arange(y_min, y_max, 0.1))\n",
    "f, axarr = plt.subplots(1, 2, sharex = 'col', sharey = 'row', figsize = (8, 3))\n",
    "\n",
    "for idx, clf, tt in zip([0, 1], [tree, bag], ['Decision tree', 'Bagging']):\n",
    "    clf.fit(X_train, y_train)\n",
    "    Z = clf.predict(np.c_[xx.ravel(), yy.ravel()])\n",
    "    Z = Z.reshape(xx.shape)\n",
    "    axarr[idx].contourf(xx, yy, Z, alpha=0.3)\n",
    "    axarr[idx].scatter(X_train[y_train==0, 0],\n",
    "                       X_train[y_train==0, 1],\n",
    "                       c = 'blue', marker ='^')\n",
    "    axarr[idx].scatter(X_train[y_train==1, 0],\n",
    "                       X_train[y_train==1, 1],\n",
    "                       c = 'green', marker ='o', s = 50)\n",
    "    \n",
    "    axarr[idx].set_title(tt)\n",
    "axarr[0].set_ylabel('Alcohol', fontsize = 12)\n",
    "plt.text(10.2, -1.2, s = '0D280/0D315 of diluted wines', ha = 'center', va = 'center', fontsize = 12)\n",
    "plt.tight_layout()\n",
    "plt.show()"
   ]
  },
  {
   "cell_type": "markdown",
   "metadata": {},
   "source": [
    "# Boosting"
   ]
  },
  {
   "cell_type": "code",
   "execution_count": 45,
   "metadata": {},
   "outputs": [
    {
     "name": "stdout",
     "output_type": "stream",
     "text": [
      "0.9157894736842105 0.875\n"
     ]
    }
   ],
   "source": [
    "# 깊이가 1인 결정트리로 트리 500개로 구성된 adaboost\n",
    "from sklearn.ensemble import AdaBoostClassifier\n",
    "\n",
    "tree = DecisionTreeClassifier(criterion = 'entropy', random_state =1, max_depth = 1)\n",
    "ada = AdaBoostClassifier(base_estimator = tree, n_estimators = 500, learning_rate = 0.1, random_state = 1)\n",
    "\n",
    "tree = tree.fit(X_train, y_train)\n",
    "y_train_pred = tree.predict(X_train)\n",
    "y_test_pred = tree.predict(X_test)\n",
    "tree_train = accuracy_score(y_train, y_train_pred)\n",
    "tree_test = accuracy_score(y_test, y_test_pred)\n",
    "print(tree_train, tree_test)"
   ]
  },
  {
   "cell_type": "code",
   "execution_count": 46,
   "metadata": {},
   "outputs": [
    {
     "name": "stdout",
     "output_type": "stream",
     "text": [
      "1.0 0.9166666666666666\n"
     ]
    }
   ],
   "source": [
    "ada = ada.fit(X_train, y_train)\n",
    "y_train_pred = ada.predict(X_train)\n",
    "y_test_pred = ada.predict(X_test)\n",
    "ada_train = accuracy_score(y_train, y_train_pred)\n",
    "ada_test = accuracy_score(y_test, y_test_pred)\n",
    "print(ada_train, ada_test)"
   ]
  },
  {
   "cell_type": "code",
   "execution_count": 47,
   "metadata": {},
   "outputs": [
    {
     "data": {
      "image/png": "[encoded data removed]",
      "text/plain": [
       "<Figure size 576x216 with 2 Axes>"
      ]
     },
     "metadata": {
      "needs_background": "light"
     },
     "output_type": "display_data"
    }
   ],
   "source": [
    "x_min = X_train[:, 0].min() -1\n",
    "x_max = X_train[:, 0].max() +1\n",
    "y_min = X_train[:, 1].min() -1\n",
    "y_max = X_train[:, 1].max() +1\n",
    "xx, yy = np.meshgrid(np.arange(x_min, x_max, 0.1), np.arange(y_min, y_max, 0.1))\n",
    "f, axarr = plt.subplots(1, 2, sharex = 'col', sharey = 'row', figsize = (8, 3))\n",
    "\n",
    "for idx, clf, tt in zip([0, 1], [tree, ada], ['Decision tree', 'AdaBoost']):\n",
    "    clf.fit(X_train, y_train)\n",
    "    Z = clf.predict(np.c_[xx.ravel(), yy.ravel()])\n",
    "    Z = Z.reshape(xx.shape)\n",
    "    axarr[idx].contourf(xx, yy, Z, alpha=0.3)\n",
    "    axarr[idx].scatter(X_train[y_train==0, 0],\n",
    "                       X_train[y_train==0, 1],\n",
    "                       c = 'blue', marker ='^')\n",
    "    axarr[idx].scatter(X_train[y_train==1, 0],\n",
    "                       X_train[y_train==1, 1],\n",
    "                       c = 'green', marker ='o', s = 50)\n",
    "    \n",
    "    axarr[idx].set_title(tt)\n",
    "axarr[0].set_ylabel('Alcohol', fontsize = 12)\n",
    "plt.text(10.2, -1.2, s = '0D280/0D315 of diluted wines', ha = 'center', va = 'center', fontsize = 12)\n",
    "plt.tight_layout()\n",
    "plt.show()"
   ]
  },
  {
   "cell_type": "markdown",
   "metadata": {},
   "source": [
    "## Gradient boosting"
   ]
  },
  {
   "cell_type": "code",
   "execution_count": 48,
   "metadata": {},
   "outputs": [
    {
     "name": "stdout",
     "output_type": "stream",
     "text": [
      "트리 개수 20\n"
     ]
    }
   ],
   "source": [
    "from sklearn.ensemble import GradientBoostingClassifier\n",
    "\n",
    "gbrt = GradientBoostingClassifier(n_estimators = 20, random_state = 42)\n",
    "gbrt.fit(X_train, y_train)\n",
    "gbrt_train_score = gbrt.score(X_train, y_train)\n",
    "gbrt_test_score = gbrt.score(X_test, y_test)\n",
    "print('트리 개수', gbrt.n_estimators_)"
   ]
  },
  {
   "cell_type": "code",
   "execution_count": 49,
   "metadata": {},
   "outputs": [
    {
     "name": "stdout",
     "output_type": "stream",
     "text": [
      "1.0 0.9166666666666666\n"
     ]
    }
   ],
   "source": [
    "print(gbrt_train_score, gbrt_test_score)"
   ]
  }
 ],
 "metadata": {
  "kernelspec": {
   "display_name": "Python 3",
   "language": "python",
   "name": "python3"
  },
  "language_info": {
   "codemirror_mode": {
    "name": "ipython",
    "version": 3
   },
   "file_extension": ".py",
   "mimetype": "text/x-python",
   "name": "python",
   "nbconvert_exporter": "python",
   "pygments_lexer": "ipython3",
   "version": "3.7.9"
  }
 },
 "nbformat": 4,
 "nbformat_minor": 4
}
