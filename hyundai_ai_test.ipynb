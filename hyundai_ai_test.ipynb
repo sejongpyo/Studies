{
 "cells": [
  {
   "cell_type": "markdown",
   "id": "combined-blame",
   "metadata": {},
   "source": [
    "# Libraries"
   ]
  },
  {
   "cell_type": "code",
   "execution_count": 1,
   "id": "respective-omaha",
   "metadata": {},
   "outputs": [],
   "source": [
    "import pandas as pd\n",
    "import numpy as np\n",
    "import matplotlib.pyplot as plt\n",
    "import seaborn as sns\n",
    "\n",
    "import warnings\n",
    "warnings.filterwarnings('ignore')"
   ]
  },
  {
   "cell_type": "markdown",
   "id": "fancy-facility",
   "metadata": {},
   "source": [
    "# data read and check"
   ]
  },
  {
   "cell_type": "code",
   "execution_count": 2,
   "id": "limited-issue",
   "metadata": {},
   "outputs": [],
   "source": [
    "tr_data = pd.read_csv('input_train.csv', header = None)\n",
    "te_data = pd.read_csv('input_test.csv', header = None)\n",
    "tr_out = pd.read_csv('output_train.csv', header = None).T\n",
    "te_out = pd.read_csv('output_test.csv', header = None).T"
   ]
  },
  {
   "cell_type": "code",
   "execution_count": 3,
   "id": "dimensional-spare",
   "metadata": {},
   "outputs": [
    {
     "name": "stdout",
     "output_type": "stream",
     "text": [
      "tr_data:  (10000, 10)\n",
      "        0       1        2        3        4       5        6        7  \\\n",
      "0  2.3684  1.6903  4.31170  0.52393  0.58717  2.2496 -3.37850  0.49118   \n",
      "1  6.3895  2.5794  1.69110 -1.45600 -0.81042 -1.3448  4.04220  0.96102   \n",
      "2 -6.3071  5.4163  4.78110 -3.47890 -3.98270  3.1396  0.18474  1.64560   \n",
      "3  3.3751  1.1903  0.97695 -3.58240 -1.19810  1.1052  4.15970  0.79441   \n",
      "4  1.6893  2.0473  0.71852 -0.30018  0.16432  2.4130 -0.19138  1.10610   \n",
      "\n",
      "          8         9  \n",
      "0  1.842500 -0.187920  \n",
      "1 -0.525610  0.673150  \n",
      "2  0.013142  1.513400  \n",
      "3  3.628500 -0.077304  \n",
      "4  1.615200  0.159640  \n"
     ]
    }
   ],
   "source": [
    "print('tr_data: ', tr_data.shape)\n",
    "print(tr_data.head(5))"
   ]
  },
  {
   "cell_type": "code",
   "execution_count": 4,
   "id": "dedicated-prompt",
   "metadata": {},
   "outputs": [
    {
     "name": "stdout",
     "output_type": "stream",
     "text": [
      "tr_out:  (10000, 1)\n",
      "   target\n",
      "0       0\n",
      "1       0\n",
      "2       0\n",
      "3       0\n",
      "4       0\n"
     ]
    }
   ],
   "source": [
    "tr_out.columns = ['target']\n",
    "print('tr_out: ', tr_out.shape)\n",
    "print(tr_out.head(5))"
   ]
  },
  {
   "cell_type": "code",
   "execution_count": 5,
   "id": "foreign-monster",
   "metadata": {},
   "outputs": [
    {
     "name": "stdout",
     "output_type": "stream",
     "text": [
      "te_data:  (4000, 10)\n",
      "        0        1       2       3        4        5        6        7  \\\n",
      "0 -2.5572  2.79390  2.5773  4.9452 -2.35310  0.52966 -0.84490  1.08140   \n",
      "1  2.1543  0.39992  5.8832  3.4851  0.36115  0.30460  0.70946  0.91388   \n",
      "2  1.5780  0.80247  3.3155 -2.0784 -3.50340 -0.12445  5.20190  1.33170   \n",
      "3  4.8611  1.77000  1.0196  2.5818 -1.64970  0.56268 -3.79790  1.42320   \n",
      "4  1.8811  1.63840  1.5200 -3.0686 -2.32640 -2.45580  0.13828  1.35490   \n",
      "\n",
      "         8        9  \n",
      "0 -0.25236  1.36760  \n",
      "1  4.56100  0.73946  \n",
      "2  1.45320  1.57100  \n",
      "3  3.13860  0.20110  \n",
      "4  4.62500  0.39006  \n"
     ]
    }
   ],
   "source": [
    "print('te_data: ', te_data.shape)\n",
    "print(te_data.head(5))"
   ]
  },
  {
   "cell_type": "code",
   "execution_count": 6,
   "id": "identified-enforcement",
   "metadata": {
    "scrolled": true
   },
   "outputs": [
    {
     "name": "stdout",
     "output_type": "stream",
     "text": [
      "te_out:  (4000, 1)\n",
      "   target\n",
      "0       0\n",
      "1       0\n",
      "2       0\n",
      "3       0\n",
      "4       0\n"
     ]
    }
   ],
   "source": [
    "te_out.columns = ['target']\n",
    "print('te_out: ', te_out.shape)\n",
    "print(te_out.head(5))"
   ]
  },
  {
   "cell_type": "markdown",
   "id": "lonely-burst",
   "metadata": {},
   "source": [
    "# 결측치 확인"
   ]
  },
  {
   "cell_type": "code",
   "execution_count": 7,
   "id": "realistic-providence",
   "metadata": {},
   "outputs": [
    {
     "data": {
      "text/plain": [
       "0    0\n",
       "1    0\n",
       "2    0\n",
       "3    0\n",
       "4    0\n",
       "5    0\n",
       "6    0\n",
       "7    0\n",
       "8    0\n",
       "9    0\n",
       "dtype: int64"
      ]
     },
     "execution_count": 7,
     "metadata": {},
     "output_type": "execute_result"
    }
   ],
   "source": [
    "tr_data.isnull().sum()"
   ]
  },
  {
   "cell_type": "code",
   "execution_count": 8,
   "id": "coordinated-hierarchy",
   "metadata": {},
   "outputs": [
    {
     "data": {
      "text/plain": [
       "0    0\n",
       "1    0\n",
       "2    0\n",
       "3    0\n",
       "4    0\n",
       "5    0\n",
       "6    0\n",
       "7    0\n",
       "8    0\n",
       "9    0\n",
       "dtype: int64"
      ]
     },
     "execution_count": 8,
     "metadata": {},
     "output_type": "execute_result"
    }
   ],
   "source": [
    "te_data.isnull().sum()"
   ]
  },
  {
   "cell_type": "markdown",
   "id": "regional-europe",
   "metadata": {},
   "source": [
    "# Input data type check"
   ]
  },
  {
   "cell_type": "code",
   "execution_count": 9,
   "id": "secure-transaction",
   "metadata": {},
   "outputs": [
    {
     "data": {
      "text/plain": [
       "0    float64\n",
       "1    float64\n",
       "2    float64\n",
       "3    float64\n",
       "4    float64\n",
       "5    float64\n",
       "6    float64\n",
       "7    float64\n",
       "8    float64\n",
       "9    float64\n",
       "dtype: object"
      ]
     },
     "execution_count": 9,
     "metadata": {},
     "output_type": "execute_result"
    }
   ],
   "source": [
    "tr_data.dtypes"
   ]
  },
  {
   "cell_type": "code",
   "execution_count": 10,
   "id": "sealed-monitor",
   "metadata": {},
   "outputs": [
    {
     "data": {
      "text/plain": [
       "0    float64\n",
       "1    float64\n",
       "2    float64\n",
       "3    float64\n",
       "4    float64\n",
       "5    float64\n",
       "6    float64\n",
       "7    float64\n",
       "8    float64\n",
       "9    float64\n",
       "dtype: object"
      ]
     },
     "execution_count": 10,
     "metadata": {},
     "output_type": "execute_result"
    }
   ],
   "source": [
    "te_data.dtypes"
   ]
  },
  {
   "cell_type": "markdown",
   "id": "exterior-camcorder",
   "metadata": {},
   "source": [
    "# check output nums"
   ]
  },
  {
   "cell_type": "code",
   "execution_count": 11,
   "id": "proof-distribution",
   "metadata": {},
   "outputs": [
    {
     "data": {
      "image/png": "[encoded data removed]",
      "text/plain": [
       "<Figure size 1296x576 with 2 Axes>"
      ]
     },
     "metadata": {
      "needs_background": "light"
     },
     "output_type": "display_data"
    }
   ],
   "source": [
    "fig, ax = plt.subplots(1, 2, figsize = (18, 8))\n",
    "tr_out['target'].value_counts().plot.bar(ax = ax[0], color = ['red', 'blue'])\n",
    "ax[0].set_title('train labels count')\n",
    "ax[0].set_ylabel('number of labels')\n",
    "te_out['target'].value_counts().plot.bar(ax = ax[1], color = ['red', 'blue'])\n",
    "ax[1].set_title('test labels count')\n",
    "ax[1].set_ylabel('number of labels')\n",
    "plt.show()"
   ]
  },
  {
   "cell_type": "code",
   "execution_count": 12,
   "id": "mexican-adobe",
   "metadata": {},
   "outputs": [
    {
     "name": "stdout",
     "output_type": "stream",
     "text": [
      "-----train labels count-----\n",
      "0    9000\n",
      "1    1000\n",
      "Name: target, dtype: int64\n",
      "-----test labels count-----\n",
      "0    2000\n",
      "1    2000\n",
      "Name: target, dtype: int64\n"
     ]
    }
   ],
   "source": [
    "print('-----train labels count-----')\n",
    "print(tr_out['target'].value_counts())\n",
    "print('-----test labels count-----')\n",
    "print(te_out['target'].value_counts())"
   ]
  },
  {
   "cell_type": "markdown",
   "id": "crucial-variation",
   "metadata": {},
   "source": [
    "# Check distribution of train data by labels"
   ]
  },
  {
   "cell_type": "code",
   "execution_count": 13,
   "id": "express-fiber",
   "metadata": {},
   "outputs": [],
   "source": [
    "train = pd.concat([tr_data, tr_out], axis = 1)\n",
    "test = pd.concat([te_data, te_out], axis = 1)"
   ]
  },
  {
   "cell_type": "code",
   "execution_count": 14,
   "id": "bronze-battlefield",
   "metadata": {},
   "outputs": [
    {
     "data": {
      "text/plain": [
       "<Figure size 432x288 with 0 Axes>"
      ]
     },
     "metadata": {},
     "output_type": "display_data"
    },
    {
     "data": {
      "image/png": "[encoded data removed]",
      "text/plain": [
       "<Figure size 1152x864 with 12 Axes>"
      ]
     },
     "metadata": {},
     "output_type": "display_data"
    }
   ],
   "source": [
    "tr_1 = train.loc[train['target'] != 0]\n",
    "tr_0 = train.loc[train['target'] == 0]\n",
    "\n",
    "sns.set_style('whitegrid')\n",
    "plt.figure()\n",
    "fig, ax = plt.subplots(3, 4, figsize = (16, 12))\n",
    "\n",
    "plot_cnt = 0\n",
    "for feature in train.columns[:-1]:\n",
    "    plot_cnt += 1\n",
    "    plt.subplot(3, 4, plot_cnt)\n",
    "    sns.kdeplot(tr_1[feature], bw = 0.5, label = \"target=1\")\n",
    "    sns.kdeplot(tr_0[feature], bw = 0.5, label = \"target=0\")\n",
    "    plt.ylabel('Density plot')\n",
    "    plt.xlabel(feature, fontsize = 15)\n",
    "    plt.legend(['target = 1', 'target = 0'])\n",
    "plt.show()"
   ]
  },
  {
   "cell_type": "markdown",
   "id": "demanding-redhead",
   "metadata": {},
   "source": [
    "## calculate metric function"
   ]
  },
  {
   "cell_type": "code",
   "execution_count": 15,
   "id": "complex-terminal",
   "metadata": {},
   "outputs": [],
   "source": [
    "from sklearn.metrics import accuracy_score, recall_score, precision_score\n",
    "\n",
    "def metric_scores(original, prediction):\n",
    "    \n",
    "    results = []\n",
    "    \n",
    "    accuracy = accuracy_score(original, prediction)\n",
    "    recall = recall_score(original, prediction)\n",
    "    precision = precision_score(original, prediction)\n",
    "\n",
    "    results.append(round(accuracy*100, 2))\n",
    "    results.append(round(recall*100, 2))\n",
    "    results.append(round(precision*100, 2))\n",
    "        \n",
    "    return results"
   ]
  },
  {
   "cell_type": "markdown",
   "id": "several-stations",
   "metadata": {},
   "source": [
    "## inference function"
   ]
  },
  {
   "cell_type": "code",
   "execution_count": 16,
   "id": "corporate-diving",
   "metadata": {},
   "outputs": [],
   "source": [
    "def inference(model, x_train, y_train, x_test):\n",
    "    model.fit(x_train, y_train)\n",
    "    \n",
    "    prediction = model.predict(x_test)\n",
    "    \n",
    "    return prediction"
   ]
  },
  {
   "cell_type": "markdown",
   "id": "moral-litigation",
   "metadata": {},
   "source": [
    "# -----Before sampling unbalanced data-----"
   ]
  },
  {
   "cell_type": "markdown",
   "id": "rural-revelation",
   "metadata": {},
   "source": [
    "# prepare for train"
   ]
  },
  {
   "cell_type": "code",
   "execution_count": 17,
   "id": "corresponding-strike",
   "metadata": {},
   "outputs": [],
   "source": [
    "x_train = train.drop(['target'], axis = 1)\n",
    "y_train = train['target']\n",
    "x_test = test.drop(['target'], axis = 1)\n",
    "y_test = test['target']"
   ]
  },
  {
   "cell_type": "markdown",
   "id": "published-pacific",
   "metadata": {},
   "source": [
    "# import model libraries"
   ]
  },
  {
   "cell_type": "code",
   "execution_count": 50,
   "id": "brutal-finnish",
   "metadata": {},
   "outputs": [],
   "source": [
    "from sklearn.ensemble import RandomForestClassifier\n",
    "from sklearn.model_selection import GridSearchCV\n",
    "from sklearn.linear_model import LogisticRegression\n",
    "from sklearn import svm\n",
    "from sklearn.naive_bayes import GaussianNB\n",
    "from sklearn.tree import DecisionTreeClassifier\n",
    "\n",
    "model_dict = {}"
   ]
  },
  {
   "cell_type": "code",
   "execution_count": 51,
   "id": "turned-syracuse",
   "metadata": {},
   "outputs": [],
   "source": [
    "RFC = RandomForestClassifier()\n",
    "prediction = inference(RFC, x_train, y_train, x_test)\n",
    "results = metric_scores(y_test, prediction)\n",
    "\n",
    "model_dict['random_forest']= results"
   ]
  },
  {
   "cell_type": "code",
   "execution_count": 52,
   "id": "beneficial-january",
   "metadata": {},
   "outputs": [],
   "source": [
    "model=svm.SVC(kernel='rbf',C=1,gamma=0.1)\n",
    "prediction = inference(model, x_train, y_train, x_test)\n",
    "results = metric_scores(y_test, prediction)\n",
    "\n",
    "model_dict['rbf-svc']= results"
   ]
  },
  {
   "cell_type": "code",
   "execution_count": 53,
   "id": "inside-treasury",
   "metadata": {},
   "outputs": [],
   "source": [
    "model=svm.SVC(kernel='linear',C=0.1,gamma=0.1)\n",
    "prediction = inference(model, x_train, y_train, x_test)\n",
    "results = metric_scores(y_test, prediction)\n",
    "\n",
    "model_dict['linear-svc']= results"
   ]
  },
  {
   "cell_type": "code",
   "execution_count": 54,
   "id": "suitable-weapon",
   "metadata": {},
   "outputs": [],
   "source": [
    "model = LogisticRegression()\n",
    "prediction = inference(model, x_train, y_train, x_test)\n",
    "results = metric_scores(y_test, prediction)\n",
    "\n",
    "model_dict['logistic']= results"
   ]
  },
  {
   "cell_type": "code",
   "execution_count": 55,
   "id": "fixed-fusion",
   "metadata": {},
   "outputs": [],
   "source": [
    "model=DecisionTreeClassifier()\n",
    "prediction = inference(model, x_train, y_train, x_test)\n",
    "results = metric_scores(y_test, prediction)\n",
    "\n",
    "model_dict['tree']= results"
   ]
  },
  {
   "cell_type": "code",
   "execution_count": 56,
   "id": "perceived-spelling",
   "metadata": {},
   "outputs": [],
   "source": [
    "model=GaussianNB()\n",
    "prediction = inference(model, x_train, y_train, x_test)\n",
    "results = metric_scores(y_test, prediction)\n",
    "\n",
    "model_dict['gaussianNB']= results"
   ]
  },
  {
   "cell_type": "code",
   "execution_count": 58,
   "id": "settled-pharmaceutical",
   "metadata": {},
   "outputs": [
    {
     "data": {
      "text/html": [
       "<div>\n",
       "<style scoped>\n",
       "    .dataframe tbody tr th:only-of-type {\n",
       "        vertical-align: middle;\n",
       "    }\n",
       "\n",
       "    .dataframe tbody tr th {\n",
       "        vertical-align: top;\n",
       "    }\n",
       "\n",
       "    .dataframe thead th {\n",
       "        text-align: right;\n",
       "    }\n",
       "</style>\n",
       "<table border=\"1\" class=\"dataframe\">\n",
       "  <thead>\n",
       "    <tr style=\"text-align: right;\">\n",
       "      <th></th>\n",
       "      <th>accuracy</th>\n",
       "      <th>recall</th>\n",
       "      <th>precision</th>\n",
       "    </tr>\n",
       "  </thead>\n",
       "  <tbody>\n",
       "    <tr>\n",
       "      <th>random_forest</th>\n",
       "      <td>95.20</td>\n",
       "      <td>90.75</td>\n",
       "      <td>99.62</td>\n",
       "    </tr>\n",
       "    <tr>\n",
       "      <th>rbf-svc</th>\n",
       "      <td>86.92</td>\n",
       "      <td>74.05</td>\n",
       "      <td>99.73</td>\n",
       "    </tr>\n",
       "    <tr>\n",
       "      <th>linear-svc</th>\n",
       "      <td>93.38</td>\n",
       "      <td>86.90</td>\n",
       "      <td>99.83</td>\n",
       "    </tr>\n",
       "    <tr>\n",
       "      <th>logistic</th>\n",
       "      <td>93.80</td>\n",
       "      <td>87.75</td>\n",
       "      <td>99.83</td>\n",
       "    </tr>\n",
       "    <tr>\n",
       "      <th>tree</th>\n",
       "      <td>93.78</td>\n",
       "      <td>88.95</td>\n",
       "      <td>98.45</td>\n",
       "    </tr>\n",
       "    <tr>\n",
       "      <th>gaussianNB</th>\n",
       "      <td>96.78</td>\n",
       "      <td>94.05</td>\n",
       "      <td>99.47</td>\n",
       "    </tr>\n",
       "  </tbody>\n",
       "</table>\n",
       "</div>"
      ],
      "text/plain": [
       "               accuracy  recall  precision\n",
       "random_forest     95.20   90.75      99.62\n",
       "rbf-svc           86.92   74.05      99.73\n",
       "linear-svc        93.38   86.90      99.83\n",
       "logistic          93.80   87.75      99.83\n",
       "tree              93.78   88.95      98.45\n",
       "gaussianNB        96.78   94.05      99.47"
      ]
     },
     "execution_count": 58,
     "metadata": {},
     "output_type": "execute_result"
    }
   ],
   "source": [
    "scores = pd.DataFrame(model_dict).T\n",
    "scores.columns = ['accuracy', 'recall', 'precision']\n",
    "scores"
   ]
  },
  {
   "cell_type": "markdown",
   "id": "divided-harris",
   "metadata": {},
   "source": [
    "# -----After under sample unbalanced data-----"
   ]
  },
  {
   "cell_type": "markdown",
   "id": "dcf8a382",
   "metadata": {},
   "source": [
    "# TomekLinks"
   ]
  },
  {
   "cell_type": "code",
   "execution_count": 59,
   "id": "treated-fabric",
   "metadata": {},
   "outputs": [
    {
     "name": "stdout",
     "output_type": "stream",
     "text": [
      "Counter({0: 8939, 1: 1000})\n"
     ]
    },
    {
     "data": {
      "text/html": [
       "<div>\n",
       "<style scoped>\n",
       "    .dataframe tbody tr th:only-of-type {\n",
       "        vertical-align: middle;\n",
       "    }\n",
       "\n",
       "    .dataframe tbody tr th {\n",
       "        vertical-align: top;\n",
       "    }\n",
       "\n",
       "    .dataframe thead th {\n",
       "        text-align: right;\n",
       "    }\n",
       "</style>\n",
       "<table border=\"1\" class=\"dataframe\">\n",
       "  <thead>\n",
       "    <tr style=\"text-align: right;\">\n",
       "      <th></th>\n",
       "      <th>accuracy</th>\n",
       "      <th>recall</th>\n",
       "      <th>precision</th>\n",
       "    </tr>\n",
       "  </thead>\n",
       "  <tbody>\n",
       "    <tr>\n",
       "      <th>random_forest</th>\n",
       "      <td>95.32</td>\n",
       "      <td>91.05</td>\n",
       "      <td>99.56</td>\n",
       "    </tr>\n",
       "    <tr>\n",
       "      <th>rbf-svc</th>\n",
       "      <td>87.22</td>\n",
       "      <td>74.65</td>\n",
       "      <td>99.73</td>\n",
       "    </tr>\n",
       "    <tr>\n",
       "      <th>linear-svc</th>\n",
       "      <td>93.58</td>\n",
       "      <td>87.30</td>\n",
       "      <td>99.83</td>\n",
       "    </tr>\n",
       "    <tr>\n",
       "      <th>logistic</th>\n",
       "      <td>94.02</td>\n",
       "      <td>88.20</td>\n",
       "      <td>99.83</td>\n",
       "    </tr>\n",
       "    <tr>\n",
       "      <th>tree</th>\n",
       "      <td>93.90</td>\n",
       "      <td>88.80</td>\n",
       "      <td>98.89</td>\n",
       "    </tr>\n",
       "    <tr>\n",
       "      <th>gaussianNB</th>\n",
       "      <td>96.80</td>\n",
       "      <td>94.15</td>\n",
       "      <td>99.42</td>\n",
       "    </tr>\n",
       "  </tbody>\n",
       "</table>\n",
       "</div>"
      ],
      "text/plain": [
       "               accuracy  recall  precision\n",
       "random_forest     95.32   91.05      99.56\n",
       "rbf-svc           87.22   74.65      99.73\n",
       "linear-svc        93.58   87.30      99.83\n",
       "logistic          94.02   88.20      99.83\n",
       "tree              93.90   88.80      98.89\n",
       "gaussianNB        96.80   94.15      99.42"
      ]
     },
     "execution_count": 59,
     "metadata": {},
     "output_type": "execute_result"
    }
   ],
   "source": [
    "from collections import Counter\n",
    "from imblearn.under_sampling import TomekLinks\n",
    "\n",
    "Tomek = TomekLinks(sampling_strategy = 'majority')\n",
    "\n",
    "x_tl, y_tl = Tomek.fit_resample(x_train, y_train)\n",
    "\n",
    "print(Counter(y_tl))\n",
    "\n",
    "model_dict = {}\n",
    "\n",
    "RFC = RandomForestClassifier()\n",
    "prediction = inference(RFC, x_tl, y_tl, x_test)\n",
    "results = metric_scores(y_test, prediction)\n",
    "\n",
    "model_dict['random_forest']= results\n",
    "\n",
    "model=svm.SVC(kernel='rbf',C=1,gamma=0.1)\n",
    "prediction = inference(model, x_tl, y_tl, x_test)\n",
    "results = metric_scores(y_test, prediction)\n",
    "\n",
    "model_dict['rbf-svc']= results\n",
    "\n",
    "model=svm.SVC(kernel='linear',C=0.1,gamma=0.1)\n",
    "prediction = inference(model, x_tl, y_tl, x_test)\n",
    "results = metric_scores(y_test, prediction)\n",
    "\n",
    "model_dict['linear-svc']= results\n",
    "\n",
    "model = LogisticRegression()\n",
    "prediction = inference(model, x_tl, y_tl, x_test)\n",
    "results = metric_scores(y_test, prediction)\n",
    "\n",
    "model_dict['logistic']= results\n",
    "\n",
    "model=DecisionTreeClassifier()\n",
    "prediction = inference(model, x_tl, y_tl, x_test)\n",
    "results = metric_scores(y_test, prediction)\n",
    "\n",
    "model_dict['tree']= results\n",
    "\n",
    "model=GaussianNB()\n",
    "prediction = inference(model, x_tl, y_tl, x_test)\n",
    "results = metric_scores(y_test, prediction)\n",
    "\n",
    "model_dict['gaussianNB']= results\n",
    "\n",
    "scores = pd.DataFrame(model_dict).T\n",
    "scores.columns = ['accuracy', 'recall', 'precision']\n",
    "scores"
   ]
  },
  {
   "cell_type": "markdown",
   "id": "f14f373f",
   "metadata": {},
   "source": [
    "# CNN (condensed nearest neighbor)"
   ]
  },
  {
   "cell_type": "code",
   "execution_count": 60,
   "id": "attempted-fourth",
   "metadata": {},
   "outputs": [
    {
     "name": "stdout",
     "output_type": "stream",
     "text": [
      "Counter({1: 1000, 0: 988})\n"
     ]
    },
    {
     "data": {
      "text/html": [
       "<div>\n",
       "<style scoped>\n",
       "    .dataframe tbody tr th:only-of-type {\n",
       "        vertical-align: middle;\n",
       "    }\n",
       "\n",
       "    .dataframe tbody tr th {\n",
       "        vertical-align: top;\n",
       "    }\n",
       "\n",
       "    .dataframe thead th {\n",
       "        text-align: right;\n",
       "    }\n",
       "</style>\n",
       "<table border=\"1\" class=\"dataframe\">\n",
       "  <thead>\n",
       "    <tr style=\"text-align: right;\">\n",
       "      <th></th>\n",
       "      <th>accuracy</th>\n",
       "      <th>recall</th>\n",
       "      <th>precision</th>\n",
       "    </tr>\n",
       "  </thead>\n",
       "  <tbody>\n",
       "    <tr>\n",
       "      <th>random_forest</th>\n",
       "      <td>96.60</td>\n",
       "      <td>93.90</td>\n",
       "      <td>99.26</td>\n",
       "    </tr>\n",
       "    <tr>\n",
       "      <th>rbf-svc</th>\n",
       "      <td>94.10</td>\n",
       "      <td>88.85</td>\n",
       "      <td>99.27</td>\n",
       "    </tr>\n",
       "    <tr>\n",
       "      <th>linear-svc</th>\n",
       "      <td>95.35</td>\n",
       "      <td>91.50</td>\n",
       "      <td>99.13</td>\n",
       "    </tr>\n",
       "    <tr>\n",
       "      <th>logistic</th>\n",
       "      <td>95.75</td>\n",
       "      <td>92.35</td>\n",
       "      <td>99.09</td>\n",
       "    </tr>\n",
       "    <tr>\n",
       "      <th>tree</th>\n",
       "      <td>94.52</td>\n",
       "      <td>91.90</td>\n",
       "      <td>96.99</td>\n",
       "    </tr>\n",
       "    <tr>\n",
       "      <th>gaussianNB</th>\n",
       "      <td>97.10</td>\n",
       "      <td>94.75</td>\n",
       "      <td>99.42</td>\n",
       "    </tr>\n",
       "  </tbody>\n",
       "</table>\n",
       "</div>"
      ],
      "text/plain": [
       "               accuracy  recall  precision\n",
       "random_forest     96.60   93.90      99.26\n",
       "rbf-svc           94.10   88.85      99.27\n",
       "linear-svc        95.35   91.50      99.13\n",
       "logistic          95.75   92.35      99.09\n",
       "tree              94.52   91.90      96.99\n",
       "gaussianNB        97.10   94.75      99.42"
      ]
     },
     "execution_count": 60,
     "metadata": {},
     "output_type": "execute_result"
    }
   ],
   "source": [
    "from collections import Counter\n",
    "from imblearn.under_sampling import CondensedNearestNeighbour\n",
    "\n",
    "undersample = CondensedNearestNeighbour(n_neighbors = 1)\n",
    "\n",
    "x_tl, y_tl = undersample.fit_resample(x_train, y_train)\n",
    "\n",
    "print(Counter(y_tl))\n",
    "\n",
    "model_dict = {}\n",
    "\n",
    "RFC = RandomForestClassifier()\n",
    "prediction = inference(RFC, x_tl, y_tl, x_test)\n",
    "results = metric_scores(y_test, prediction)\n",
    "\n",
    "model_dict['random_forest']= results\n",
    "\n",
    "model=svm.SVC(kernel='rbf',C=1,gamma=0.1)\n",
    "prediction = inference(model, x_tl, y_tl, x_test)\n",
    "results = metric_scores(y_test, prediction)\n",
    "\n",
    "model_dict['rbf-svc']= results\n",
    "\n",
    "model=svm.SVC(kernel='linear',C=0.1,gamma=0.1)\n",
    "prediction = inference(model, x_tl, y_tl, x_test)\n",
    "results = metric_scores(y_test, prediction)\n",
    "\n",
    "model_dict['linear-svc']= results\n",
    "\n",
    "model = LogisticRegression()\n",
    "prediction = inference(model, x_tl, y_tl, x_test)\n",
    "results = metric_scores(y_test, prediction)\n",
    "\n",
    "model_dict['logistic']= results\n",
    "\n",
    "model=DecisionTreeClassifier()\n",
    "prediction = inference(model, x_tl, y_tl, x_test)\n",
    "results = metric_scores(y_test, prediction)\n",
    "\n",
    "model_dict['tree']= results\n",
    "\n",
    "model=GaussianNB()\n",
    "prediction = inference(model, x_tl, y_tl, x_test)\n",
    "results = metric_scores(y_test, prediction)\n",
    "\n",
    "model_dict['gaussianNB']= results\n",
    "\n",
    "scores = pd.DataFrame(model_dict).T\n",
    "scores.columns = ['accuracy', 'recall', 'precision']\n",
    "scores"
   ]
  },
  {
   "cell_type": "markdown",
   "id": "61c203c9",
   "metadata": {},
   "source": [
    "# -----After over sample unbalanced data-----"
   ]
  },
  {
   "cell_type": "markdown",
   "id": "5a2e4652",
   "metadata": {},
   "source": [
    "# Resampling"
   ]
  },
  {
   "cell_type": "code",
   "execution_count": 68,
   "id": "b60aa127",
   "metadata": {},
   "outputs": [
    {
     "data": {
      "text/plain": [
       "1    8000\n",
       "Name: target, dtype: int64"
      ]
     },
     "execution_count": 68,
     "metadata": {},
     "output_type": "execute_result"
    }
   ],
   "source": [
    "from sklearn.utils import resample\n",
    "\n",
    "x_upsampled, y_upsampled = resample(x_train[y_train == 1], y_train[y_train==1],\n",
    "                                    n_samples = 8000, random_state=123)\n",
    "y_upsampled.value_counts()"
   ]
  },
  {
   "cell_type": "code",
   "execution_count": 69,
   "id": "03f23b6b",
   "metadata": {},
   "outputs": [
    {
     "name": "stdout",
     "output_type": "stream",
     "text": [
      "new data:  (18000, 10)\n",
      "new labels:  (18000,)\n",
      "label counts:  Counter({0: 9000, 1: 9000})\n"
     ]
    }
   ],
   "source": [
    "x_up = pd.concat([x_train, x_upsampled], axis = 0)\n",
    "y_up = pd.concat([y_train, y_upsampled], axis = 0)\n",
    "\n",
    "print(\"new data: \", x_up.shape)\n",
    "print(\"new labels: \", y_up.shape)\n",
    "print(\"label counts: \", Counter(y_up))"
   ]
  },
  {
   "cell_type": "code",
   "execution_count": 63,
   "id": "6c8214b0",
   "metadata": {},
   "outputs": [
    {
     "data": {
      "text/html": [
       "<div>\n",
       "<style scoped>\n",
       "    .dataframe tbody tr th:only-of-type {\n",
       "        vertical-align: middle;\n",
       "    }\n",
       "\n",
       "    .dataframe tbody tr th {\n",
       "        vertical-align: top;\n",
       "    }\n",
       "\n",
       "    .dataframe thead th {\n",
       "        text-align: right;\n",
       "    }\n",
       "</style>\n",
       "<table border=\"1\" class=\"dataframe\">\n",
       "  <thead>\n",
       "    <tr style=\"text-align: right;\">\n",
       "      <th></th>\n",
       "      <th>accuracy</th>\n",
       "      <th>recall</th>\n",
       "      <th>precision</th>\n",
       "    </tr>\n",
       "  </thead>\n",
       "  <tbody>\n",
       "    <tr>\n",
       "      <th>random_forest</th>\n",
       "      <td>95.98</td>\n",
       "      <td>92.55</td>\n",
       "      <td>99.36</td>\n",
       "    </tr>\n",
       "    <tr>\n",
       "      <th>rbf-svc</th>\n",
       "      <td>89.32</td>\n",
       "      <td>79.00</td>\n",
       "      <td>99.56</td>\n",
       "    </tr>\n",
       "    <tr>\n",
       "      <th>linear-svc</th>\n",
       "      <td>96.00</td>\n",
       "      <td>94.90</td>\n",
       "      <td>97.03</td>\n",
       "    </tr>\n",
       "    <tr>\n",
       "      <th>logistic</th>\n",
       "      <td>95.88</td>\n",
       "      <td>94.85</td>\n",
       "      <td>96.84</td>\n",
       "    </tr>\n",
       "    <tr>\n",
       "      <th>tree</th>\n",
       "      <td>93.22</td>\n",
       "      <td>87.20</td>\n",
       "      <td>99.15</td>\n",
       "    </tr>\n",
       "    <tr>\n",
       "      <th>gaussianNB</th>\n",
       "      <td>98.15</td>\n",
       "      <td>97.75</td>\n",
       "      <td>98.54</td>\n",
       "    </tr>\n",
       "  </tbody>\n",
       "</table>\n",
       "</div>"
      ],
      "text/plain": [
       "               accuracy  recall  precision\n",
       "random_forest     95.98   92.55      99.36\n",
       "rbf-svc           89.32   79.00      99.56\n",
       "linear-svc        96.00   94.90      97.03\n",
       "logistic          95.88   94.85      96.84\n",
       "tree              93.22   87.20      99.15\n",
       "gaussianNB        98.15   97.75      98.54"
      ]
     },
     "execution_count": 63,
     "metadata": {},
     "output_type": "execute_result"
    }
   ],
   "source": [
    "model_dict = {}\n",
    "\n",
    "RFC = RandomForestClassifier()\n",
    "prediction = inference(RFC, x_up, y_up, x_test)\n",
    "results = metric_scores(y_test, prediction)\n",
    "\n",
    "model_dict['random_forest']= results\n",
    "\n",
    "model=svm.SVC(kernel='rbf',C=1,gamma=0.1)\n",
    "prediction = inference(model, x_up, y_up, x_test)\n",
    "results = metric_scores(y_test, prediction)\n",
    "\n",
    "model_dict['rbf-svc']= results\n",
    "\n",
    "model=svm.SVC(kernel='linear',C=0.1,gamma=0.1)\n",
    "prediction = inference(model, x_up, y_up, x_test)\n",
    "results = metric_scores(y_test, prediction)\n",
    "\n",
    "model_dict['linear-svc']= results\n",
    "\n",
    "model = LogisticRegression()\n",
    "prediction = inference(model, x_up, y_up, x_test)\n",
    "results = metric_scores(y_test, prediction)\n",
    "\n",
    "model_dict['logistic']= results\n",
    "\n",
    "model=DecisionTreeClassifier()\n",
    "prediction = inference(model, x_up, y_up, x_test)\n",
    "results = metric_scores(y_test, prediction)\n",
    "\n",
    "model_dict['tree']= results\n",
    "\n",
    "model=GaussianNB()\n",
    "prediction = inference(model, x_up, y_up, x_test)\n",
    "results = metric_scores(y_test, prediction)\n",
    "\n",
    "model_dict['gaussianNB']= results\n",
    "\n",
    "new_scores = pd.DataFrame(model_dict).T\n",
    "new_scores.columns = ['accuracy', 'recall', 'precision']\n",
    "new_scores"
   ]
  },
  {
   "cell_type": "markdown",
   "id": "33daab47",
   "metadata": {},
   "source": [
    "# SMOTE (synthetic minority oversampling technique)"
   ]
  },
  {
   "cell_type": "code",
   "execution_count": 66,
   "id": "d3a885b9",
   "metadata": {},
   "outputs": [
    {
     "name": "stdout",
     "output_type": "stream",
     "text": [
      "Counter({0: 9000, 1: 9000})\n"
     ]
    }
   ],
   "source": [
    "from imblearn.over_sampling import SMOTE\n",
    "\n",
    "sm = SMOTE(random_state=42)\n",
    "x_up, y_up = sm.fit_resample(x_train, y_train)\n",
    "\n",
    "print(Counter(y_up))"
   ]
  },
  {
   "cell_type": "code",
   "execution_count": 67,
   "id": "26dbf29f",
   "metadata": {},
   "outputs": [
    {
     "data": {
      "text/html": [
       "<div>\n",
       "<style scoped>\n",
       "    .dataframe tbody tr th:only-of-type {\n",
       "        vertical-align: middle;\n",
       "    }\n",
       "\n",
       "    .dataframe tbody tr th {\n",
       "        vertical-align: top;\n",
       "    }\n",
       "\n",
       "    .dataframe thead th {\n",
       "        text-align: right;\n",
       "    }\n",
       "</style>\n",
       "<table border=\"1\" class=\"dataframe\">\n",
       "  <thead>\n",
       "    <tr style=\"text-align: right;\">\n",
       "      <th></th>\n",
       "      <th>accuracy</th>\n",
       "      <th>recall</th>\n",
       "      <th>precision</th>\n",
       "    </tr>\n",
       "  </thead>\n",
       "  <tbody>\n",
       "    <tr>\n",
       "      <th>random_forest</th>\n",
       "      <td>96.80</td>\n",
       "      <td>94.50</td>\n",
       "      <td>99.06</td>\n",
       "    </tr>\n",
       "    <tr>\n",
       "      <th>rbf-svc</th>\n",
       "      <td>89.40</td>\n",
       "      <td>79.20</td>\n",
       "      <td>99.50</td>\n",
       "    </tr>\n",
       "    <tr>\n",
       "      <th>linear-svc</th>\n",
       "      <td>95.88</td>\n",
       "      <td>93.95</td>\n",
       "      <td>97.71</td>\n",
       "    </tr>\n",
       "    <tr>\n",
       "      <th>logistic</th>\n",
       "      <td>95.78</td>\n",
       "      <td>93.95</td>\n",
       "      <td>97.51</td>\n",
       "    </tr>\n",
       "    <tr>\n",
       "      <th>tree</th>\n",
       "      <td>94.95</td>\n",
       "      <td>91.75</td>\n",
       "      <td>98.02</td>\n",
       "    </tr>\n",
       "    <tr>\n",
       "      <th>gaussianNB</th>\n",
       "      <td>97.88</td>\n",
       "      <td>96.85</td>\n",
       "      <td>98.88</td>\n",
       "    </tr>\n",
       "  </tbody>\n",
       "</table>\n",
       "</div>"
      ],
      "text/plain": [
       "               accuracy  recall  precision\n",
       "random_forest     96.80   94.50      99.06\n",
       "rbf-svc           89.40   79.20      99.50\n",
       "linear-svc        95.88   93.95      97.71\n",
       "logistic          95.78   93.95      97.51\n",
       "tree              94.95   91.75      98.02\n",
       "gaussianNB        97.88   96.85      98.88"
      ]
     },
     "execution_count": 67,
     "metadata": {},
     "output_type": "execute_result"
    }
   ],
   "source": [
    "model_dict = {}\n",
    "\n",
    "RFC = RandomForestClassifier()\n",
    "prediction = inference(RFC, x_up, y_up, x_test)\n",
    "results = metric_scores(y_test, prediction)\n",
    "\n",
    "model_dict['random_forest']= results\n",
    "\n",
    "model=svm.SVC(kernel='rbf',C=1,gamma=0.1)\n",
    "prediction = inference(model, x_up, y_up, x_test)\n",
    "results = metric_scores(y_test, prediction)\n",
    "\n",
    "model_dict['rbf-svc']= results\n",
    "\n",
    "model=svm.SVC(kernel='linear',C=0.1,gamma=0.1)\n",
    "prediction = inference(model, x_up, y_up, x_test)\n",
    "results = metric_scores(y_test, prediction)\n",
    "\n",
    "model_dict['linear-svc']= results\n",
    "\n",
    "model = LogisticRegression()\n",
    "prediction = inference(model, x_up, y_up, x_test)\n",
    "results = metric_scores(y_test, prediction)\n",
    "\n",
    "model_dict['logistic']= results\n",
    "\n",
    "model=DecisionTreeClassifier()\n",
    "prediction = inference(model, x_up, y_up, x_test)\n",
    "results = metric_scores(y_test, prediction)\n",
    "\n",
    "model_dict['tree']= results\n",
    "\n",
    "model=GaussianNB()\n",
    "prediction = inference(model, x_up, y_up, x_test)\n",
    "results = metric_scores(y_test, prediction)\n",
    "\n",
    "model_dict['gaussianNB']= results\n",
    "\n",
    "new_scores = pd.DataFrame(model_dict).T\n",
    "new_scores.columns = ['accuracy', 'recall', 'precision']\n",
    "new_scores"
   ]
  },
  {
   "cell_type": "markdown",
   "id": "f861c1fc",
   "metadata": {},
   "source": [
    "# final results\n",
    "## resampled (label =1) data + original data\n",
    "- total num of data : 18000\n",
    "- GaussianNB"
   ]
  },
  {
   "cell_type": "code",
   "execution_count": 73,
   "id": "e87c50d8",
   "metadata": {},
   "outputs": [
    {
     "name": "stdout",
     "output_type": "stream",
     "text": [
      "new data:  (18000, 10)\n",
      "new labels:  (18000,)\n",
      "label counts:  Counter({0: 9000, 1: 9000})\n",
      "results:  [98.15, 97.75, 98.54]\n"
     ]
    }
   ],
   "source": [
    "from sklearn.utils import resample\n",
    "\n",
    "x_upsampled, y_upsampled = resample(x_train[y_train == 1], y_train[y_train==1],\n",
    "                                    n_samples = 8000, random_state=123)\n",
    "y_upsampled.value_counts()\n",
    "\n",
    "x_up = pd.concat([x_train, x_upsampled], axis = 0)\n",
    "y_up = pd.concat([y_train, y_upsampled], axis = 0)\n",
    "\n",
    "print(\"new data: \", x_up.shape)\n",
    "print(\"new labels: \", y_up.shape)\n",
    "print(\"label counts: \", Counter(y_up))\n",
    "\n",
    "model=GaussianNB()\n",
    "prediction = inference(model, x_up, y_up, x_test)\n",
    "print('results: ', metric_scores(y_test, prediction))\n",
    "\n",
    "final = pd.DataFrame(prediction)\n",
    "\n",
    "final.to_csv('output_test_sejong.csv', header = None, index = False)"
   ]
  }
 ],
 "metadata": {
  "kernelspec": {
   "display_name": "py37",
   "language": "python",
   "name": "kaggle"
  },
  "language_info": {
   "codemirror_mode": {
    "name": "ipython",
    "version": 3
   },
   "file_extension": ".py",
   "mimetype": "text/x-python",
   "name": "python",
   "nbconvert_exporter": "python",
   "pygments_lexer": "ipython3",
   "version": "3.8.6"
  }
 },
 "nbformat": 4,
 "nbformat_minor": 5
}
